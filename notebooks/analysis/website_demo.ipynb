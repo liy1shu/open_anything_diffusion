{
 "cells": [
  {
   "cell_type": "code",
   "execution_count": null,
   "metadata": {},
   "outputs": [],
   "source": [
    "paths = {\n",
    "    'ro_sgp': '/home/yishu/open_anything_diffusion/logs/sim_demo_trajectory_pn++/2024-06-23/01-25-15/logs/instance_result.json',\n",
    "    'ro_raw': '/home/yishu/open_anything_diffusion/logs/sim_demo_trajectory_pn++/2024-06-23/01-25-53/logs/instance_result.json',\n",
    "    'history': '/home/yishu/open_anything_diffusion/logs/sim_demo_trajectory_diffuser_hispndit/2024-06-23/01-27-32/logs/instance_result.json'\n",
    "}"
   ]
  },
  {
   "cell_type": "code",
   "execution_count": null,
   "metadata": {},
   "outputs": [],
   "source": [
    "import json\n",
    "\n",
    "results = {}\n",
    "\n",
    "for name in paths.keys():\n",
    "    with open(paths[name], 'r') as f:\n",
    "        results[name] = json.load(f)"
   ]
  },
  {
   "cell_type": "code",
   "execution_count": null,
   "metadata": {},
   "outputs": [],
   "source": [
    "for instance_id in results['history'].keys():\n",
    "    if instance_id not in results['ro_sgp'].keys():\n",
    "        continue\n",
    "\n",
    "    # if results['history'][instance_id] >= 0.9 and results['ro_sgp'][instance_id] < 0.9:\n",
    "    if results['history'][instance_id] >= 0.9 and results['ro_sgp'][instance_id] < 0.3:\n",
    "        print(instance_id)"
   ]
  },
  {
   "cell_type": "markdown",
   "metadata": {},
   "source": [
    "### Flow visualization"
   ]
  },
  {
   "cell_type": "code",
   "execution_count": null,
   "metadata": {},
   "outputs": [],
   "source": [
    "id = '100444_link_0'"
   ]
  },
  {
   "cell_type": "code",
   "execution_count": null,
   "metadata": {},
   "outputs": [],
   "source": [
    "import pickle as pkl\n",
    "orig_path = f'/home/yishu/open_anything_diffusion/logs/sim_demo_trajectory_pn++/2024-06-23/01-25-15/logs/flow_vis/{id}.pkl'\n",
    "hd_path = f'/home/yishu/open_anything_diffusion/logs/sim_demo_trajectory_diffuser_hispndit/2024-06-23/01-27-32/logs/flow_vis/{id}.pkl'\n",
    "\n",
    "with open(orig_path, 'rb') as f:\n",
    "    orig_flow = pkl.load(f)\n",
    "\n",
    "with open(hd_path, 'rb') as f:\n",
    "    hd_flow = pkl.load(f)"
   ]
  },
  {
   "cell_type": "code",
   "execution_count": null,
   "metadata": {},
   "outputs": [],
   "source": [
    "orig_flow.show()"
   ]
  },
  {
   "cell_type": "code",
   "execution_count": null,
   "metadata": {},
   "outputs": [],
   "source": [
    "hd_flow.show()"
   ]
  },
  {
   "cell_type": "markdown",
   "metadata": {},
   "source": [
    "## Website grasp visualization"
   ]
  },
  {
   "cell_type": "code",
   "execution_count": null,
   "metadata": {},
   "outputs": [],
   "source": [
    "import pickle\n",
    "# with open('data_flowbotHD_8877_link2.pkl', 'rb') as f:\n",
    "# with open('data_flowbot3D_9388_link0.pkl', 'rb') as f:\n",
    "with open('data_flowbotHD_11712_link0.pkl', 'rb') as f:\n",
    "# with open('data_flowbotHD_49062_link2.pkl', 'rb') as f:\n",
    "    data = pickle.load(f)\n",
    "    # p({\n",
    "    #     'flow_visual': trial_figs['link_2'],\n",
    "    #     'grasp_visual': animation,\n",
    "    flow_visual = data['flow_visual']\n",
    "    visual_all_points = data['visual_points']\n",
    "    visual_link_ixs = data['visual_link_ixs']\n",
    "    visual_grasp_points_idx = data['visual_grasp_points_idx']\n",
    "    visual_grasp_points = data['visual_grasp_points']\n",
    "    visual_flows = data['visual_flow']"
   ]
  },
  {
   "cell_type": "code",
   "execution_count": null,
   "metadata": {},
   "outputs": [],
   "source": [
    "# flow_visual.show()"
   ]
  },
  {
   "cell_type": "code",
   "execution_count": null,
   "metadata": {},
   "outputs": [],
   "source": [
    "import numpy as np\n",
    "import plotly.graph_objects as go\n",
    "import plotly.io as pio\n",
    "import os\n",
    "\n",
    "# path = './grasp_visuals/hd_8877link2/'\n",
    "# path = './grasp_visuals/3d_9388link0/'\n",
    "path = './grasp_visuals/hd_11712link0/'\n",
    "# path = './grasp_visuals/hd_49062link2/'\n",
    "if not os.path.exists(path):\n",
    "    os.makedirs(path)\n",
    "\n",
    "for step in range(0, len(visual_all_points)):\n",
    "# for step in range(16, 17):\n",
    "    points, link_ixs, grasp_point_idx, grasp_point, flow = visual_all_points[step], visual_link_ixs[step], visual_grasp_points_idx[step], visual_grasp_points[step], visual_flows[step]\n",
    "    num_points = 1200\n",
    "\n",
    "    # Color part of the points red and others blue\n",
    "    colors = np.array(['blue'] * (num_points))\n",
    "    colors[link_ixs] = 'red'\n",
    "\n",
    "    # Grasp arrow\n",
    "    arrow_origin = np.array(grasp_point)\n",
    "    arrow_direction = np.array(flow / np.linalg.norm(flow)) * 0.5\n",
    "    arrow_end = arrow_origin + arrow_direction\n",
    "    cone_size = arrow_direction * 0.8\n",
    "\n",
    "    # Create a scatter plot for the point cloud\n",
    "    scatter = go.Scatter3d(\n",
    "        x=points[:, 0], y=points[:, 1], z=points[:, 2],\n",
    "        mode='markers',\n",
    "        marker=dict(\n",
    "            size=5,\n",
    "            color=colors,\n",
    "            opacity=0.2\n",
    "        )\n",
    "    )\n",
    "\n",
    "\n",
    "    arrow = go.Scatter3d(\n",
    "        x=[arrow_origin[0], arrow_end[0]],\n",
    "        y=[arrow_origin[1], arrow_end[1]],\n",
    "        z=[arrow_origin[2], arrow_end[2]],\n",
    "        mode='lines+markers',\n",
    "        line=dict(color='green', width=10),\n",
    "        marker=dict(size=3, color='black')\n",
    "    )\n",
    "\n",
    "    # cone = go.Cone(x=[arrow_end[0]], y=[arrow_end[1]], z=[arrow_end[2]], u=[(arrow_end[0]-arrow_origin[0]) * 0.7], v=[(arrow_end[1]-arrow_origin[1]) * 0.7], w=[(arrow_end[2]-arrow_origin[2]) * 0.7], colorscale='Greens', showscale=False)\n",
    "    cone = go.Cone(x=[arrow_end[0]], y=[arrow_end[1]], z=[arrow_end[2]], u=[cone_size[0]], v=[cone_size[1]], w=[cone_size[2]], colorscale='Greens', showscale=False)\n",
    "\n",
    "    # Combine the scatter plot and the arrow\n",
    "    fig = go.Figure(data=[scatter, arrow, cone])\n",
    "    # fig = go.Figure(data=[scatter])\n",
    "\n",
    "    camera = dict(\n",
    "        up=dict(x=0, y=0, z=0.5),\n",
    "\n",
    "        # # 8877\n",
    "        # center=dict(x=0, y=0, z=0),\n",
    "        # eye=dict(x=-0.975, y=-0.45, z=0.875)\n",
    "\n",
    "        # # 9388\n",
    "        # center=dict(x=0, y=0, z=-0.1),\n",
    "        # eye=dict(x=-1.32, y=-0.48, z=0.72)\n",
    "\n",
    "        # # 49062\n",
    "        # center=dict(x=0, y=-0.05, z=0.1),\n",
    "        # eye=dict(x=-0.95, y=0.72, z=0.5184)\n",
    "\n",
    "        # 11712\n",
    "        center=dict(x=0, y=-0.1, z=0.1),\n",
    "        eye=dict(x=-0.99, y=0.72, z=0.54)\n",
    "    )\n",
    "\n",
    "    fig.update_layout(\n",
    "        scene=dict(\n",
    "            # xaxis=dict(visible=False, range=[-1, 1]),\n",
    "            # yaxis=dict(visible=False, range=[-1, 1]),\n",
    "            # zaxis=dict(visible=False, range=[0, 2]),\n",
    "\n",
    "\n",
    "            xaxis=dict(visible=False, range=[-1.5, 1.5]),\n",
    "            yaxis=dict(visible=False, range=[-1.5, 1.5]),\n",
    "            zaxis=dict(visible=False, range=[-1.0, 2.0]),\n",
    "            \n",
    "            # xaxis=dict(visible=True, range=[-1, 1]),\n",
    "            # yaxis=dict(visible=True, range=[-1, 1]),\n",
    "            # zaxis=dict(visible=True, range=[0, 2]),\n",
    "            xaxis_showspikes=False,\n",
    "            yaxis_showspikes=False,\n",
    "            zaxis_showspikes=False,\n",
    "            bgcolor='rgba(255,255,255,1)',\n",
    "            aspectmode = 'cube'\n",
    "        ),\n",
    "        width=500,\n",
    "        height=500,\n",
    "        showlegend=False,\n",
    "        coloraxis_showscale=False,\n",
    "        margin=dict(l=0, r=0, b=0, t=0),\n",
    "        paper_bgcolor='rgba(0,0,0,0)',\n",
    "        scene_camera=camera,\n",
    "    )\n",
    "\n",
    "    # # Show plot\n",
    "    # fig.show()\n",
    "    pio.write_image(fig, f'{path}/{step}.jpeg', format='jpeg')\n",
    "    # break"
   ]
  }
 ],
 "metadata": {
  "kernelspec": {
   "display_name": "openany",
   "language": "python",
   "name": "python3"
  },
  "language_info": {
   "codemirror_mode": {
    "name": "ipython",
    "version": 3
   },
   "file_extension": ".py",
   "mimetype": "text/x-python",
   "name": "python",
   "nbconvert_exporter": "python",
   "pygments_lexer": "ipython3",
   "version": "3.9.17"
  }
 },
 "nbformat": 4,
 "nbformat_minor": 2
}
