{
 "cells": [
  {
   "cell_type": "code",
   "execution_count": null,
   "metadata": {},
   "outputs": [],
   "source": [
    "paths = {\n",
    "    'ro_sgp': '/home/yishu/open_anything_diffusion/logs/sim_demo_trajectory_pn++/2024-06-23/01-25-15/logs/instance_result.json',\n",
    "    'ro_raw': '/home/yishu/open_anything_diffusion/logs/sim_demo_trajectory_pn++/2024-06-23/01-25-53/logs/instance_result.json',\n",
    "    'history': '/home/yishu/open_anything_diffusion/logs/sim_demo_trajectory_diffuser_hispndit/2024-06-23/01-27-32/logs/instance_result.json'\n",
    "}"
   ]
  },
  {
   "cell_type": "code",
   "execution_count": null,
   "metadata": {},
   "outputs": [],
   "source": [
    "import json\n",
    "\n",
    "results = {}\n",
    "\n",
    "for name in paths.keys():\n",
    "    with open(paths[name], 'r') as f:\n",
    "        results[name] = json.load(f)"
   ]
  },
  {
   "cell_type": "code",
   "execution_count": null,
   "metadata": {},
   "outputs": [],
   "source": [
    "for instance_id in results['history'].keys():\n",
    "    if instance_id not in results['ro_sgp'].keys():\n",
    "        continue\n",
    "\n",
    "    # if results['history'][instance_id] >= 0.9 and results['ro_sgp'][instance_id] < 0.9:\n",
    "    if results['history'][instance_id] >= 0.9 and results['ro_sgp'][instance_id] < 0.3:\n",
    "        print(instance_id)"
   ]
  },
  {
   "cell_type": "markdown",
   "metadata": {},
   "source": [
    "### Flow visualization"
   ]
  },
  {
   "cell_type": "code",
   "execution_count": null,
   "metadata": {},
   "outputs": [],
   "source": [
    "id = '100444_link_0'"
   ]
  },
  {
   "cell_type": "code",
   "execution_count": null,
   "metadata": {},
   "outputs": [],
   "source": [
    "import pickle as pkl\n",
    "orig_path = f'/home/yishu/open_anything_diffusion/logs/sim_demo_trajectory_pn++/2024-06-23/01-25-15/logs/flow_vis/{id}.pkl'\n",
    "hd_path = f'/home/yishu/open_anything_diffusion/logs/sim_demo_trajectory_diffuser_hispndit/2024-06-23/01-27-32/logs/flow_vis/{id}.pkl'\n",
    "\n",
    "with open(orig_path, 'rb') as f:\n",
    "    orig_flow = pkl.load(f)\n",
    "\n",
    "with open(hd_path, 'rb') as f:\n",
    "    hd_flow = pkl.load(f)"
   ]
  },
  {
   "cell_type": "code",
   "execution_count": null,
   "metadata": {},
   "outputs": [],
   "source": [
    "orig_flow.show()"
   ]
  },
  {
   "cell_type": "code",
   "execution_count": null,
   "metadata": {},
   "outputs": [],
   "source": [
    "hd_flow.show()"
   ]
  }
 ],
 "metadata": {
  "kernelspec": {
   "display_name": "openany",
   "language": "python",
   "name": "python3"
  },
  "language_info": {
   "codemirror_mode": {
    "name": "ipython",
    "version": 3
   },
   "file_extension": ".py",
   "mimetype": "text/x-python",
   "name": "python",
   "nbconvert_exporter": "python",
   "pygments_lexer": "ipython3",
   "version": "3.9.17"
  }
 },
 "nbformat": 4,
 "nbformat_minor": 2
}
