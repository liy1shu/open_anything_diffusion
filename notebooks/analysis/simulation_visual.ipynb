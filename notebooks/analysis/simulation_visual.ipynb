{
 "cells": [
  {
   "cell_type": "code",
   "execution_count": null,
   "metadata": {},
   "outputs": [],
   "source": [
    "import numpy as np\n",
    "import torch\n",
    "\n",
    "from open_anything_diffusion.simulations.simulation import *\n",
    "\n",
    "np.random.seed(42)\n",
    "torch.manual_seed(42)\n",
    "torch.set_printoptions(precision=10)  # Set higher precision for PyTorch outputs\n",
    "np.set_printoptions(precision=10)\n",
    "from hydra import compose, initialize\n",
    "\n",
    "initialize(config_path=\"../../configs\", version_base=\"1.3\")\n",
    "cfg = compose(config_name=\"eval_sim_switch\")\n",
    "# cfg = compose(config_name=\"eval_sim\")\n",
    "\n",
    "from open_anything_diffusion.models.flow_diffuser_dit import (\n",
    "    FlowTrajectoryDiffuserSimulationModule_DiT,\n",
    ")\n",
    "from open_anything_diffusion.models.flow_diffuser_pndit import (\n",
    "    FlowTrajectoryDiffuserSimulationModule_PNDiT,\n",
    ")\n",
    "from open_anything_diffusion.models.modules.history_encoder import HistoryEncoder\n",
    "from open_anything_diffusion.models.modules.dit_models import DiT, PN2DiT, PN2HisDiT"
   ]
  },
  {
   "cell_type": "markdown",
   "metadata": {},
   "source": [
    "## HisPNDiT"
   ]
  },
  {
   "cell_type": "code",
   "execution_count": null,
   "metadata": {},
   "outputs": [],
   "source": [
    "from open_anything_diffusion.models.flow_diffuser_hispndit import (\n",
    "    FlowTrajectoryDiffuserSimulationModule_HisPNDiT,\n",
    ")\n",
    "\n",
    "# History model\n",
    "network = {\n",
    "    \"DiT\": PN2HisDiT(\n",
    "        history_embed_dim=128,\n",
    "        in_channels=3,\n",
    "        depth=5,\n",
    "        hidden_size=128,\n",
    "        num_heads=4,\n",
    "        # depth=8,\n",
    "        # hidden_size=256,\n",
    "        # num_heads=4,\n",
    "        learn_sigma=True,\n",
    "    ).cuda(),\n",
    "    \"History\": HistoryEncoder(\n",
    "        history_dim=128,\n",
    "        history_len=1,\n",
    "        batch_norm=True,\n",
    "        transformer=False,\n",
    "        repeat_dim=False,\n",
    "    ).cuda(),\n",
    "}\n",
    "\n",
    "# ckpt_file = \"/home/yishu/open_anything_diffusion/logs/train_trajectory_diffuser_hispndit/2024-05-25/02-00-54/checkpoints/epoch=299-step=248700-val_loss=0.00-weights-only.ckpt\"\n",
    "# ckpt_file = \"/home/yishu/open_anything_diffusion/logs/train_trajectory_diffuser_hispndit/2024-05-25/02-00-54/checkpoints/epoch=359-step=298440.ckpt\"\n",
    "ckpt_file = \"/home/yishu/open_anything_diffusion/pretrained/fullset_half_half_hispndit.ckpt\"\n",
    "switch_model = FlowTrajectoryDiffuserSimulationModule_HisPNDiT(\n",
    "    network, inference_cfg=cfg.inference, model_cfg=cfg.model\n",
    ").cuda()\n",
    "switch_model.load_from_ckpt(ckpt_file)\n",
    "switch_model.eval()"
   ]
  },
  {
   "cell_type": "markdown",
   "metadata": {},
   "source": [
    "## FlowBot"
   ]
  },
  {
   "cell_type": "code",
   "execution_count": null,
   "metadata": {},
   "outputs": [],
   "source": [
    "import rpad.pyg.nets.pointnet2 as pnp\n",
    "network = pnp.PN2Dense(\n",
    "    in_channels=0,\n",
    "    out_channels=3,\n",
    "    p=pnp.PN2DenseParams(),\n",
    ")\n",
    "\n",
    "ckpt_file = \"/home/yishu/open_anything_diffusion/pretrained/fullset_half_half_flowbotRO.ckpt\"\n",
    "# ckpt_file = \"/home/yishu/open_anything_diffusion/pretrained/fullset_half_half_flowbotRO.ckpt\"\n",
    "\n",
    "# Load the network weights.\n",
    "ckpt = torch.load(ckpt_file)\n",
    "network.load_state_dict(\n",
    "    {k.partition(\".\")[2]: v for k, v, in ckpt[\"state_dict\"].items()}\n",
    ")\n",
    "network.eval()"
   ]
  },
  {
   "cell_type": "markdown",
   "metadata": {},
   "source": [
    "## Simulation"
   ]
  },
  {
   "cell_type": "code",
   "execution_count": null,
   "metadata": {},
   "outputs": [],
   "source": [
    "obj_id = \"12484\"\n",
    "joint_id = 0\n",
    "pm_dir = os.path.expanduser(\"~/datasets/partnet-mobility/convex\")"
   ]
  },
  {
   "cell_type": "code",
   "execution_count": null,
   "metadata": {},
   "outputs": [],
   "source": [
    "raw_data = PMObject(os.path.join(pm_dir, obj_id))\n",
    "available_joints = raw_data.semantics.by_type(\"hinge\") + raw_data.semantics.by_type(\n",
    "    \"slider\"\n",
    ")\n",
    "available_joints = [joint.name for joint in available_joints]\n",
    "target_link = available_joints[joint_id]\n",
    "print(target_link)\n",
    "\n",
    "# # History\n",
    "# trial_figs, trial_results, all_signals = trial_with_diffuser_history(\n",
    "#     obj_id=obj_id,\n",
    "#     model=switch_model,\n",
    "#     history_model=switch_model,\n",
    "#     n_step=30,\n",
    "#     gui=False,\n",
    "#     website=True,\n",
    "#     all_joint=False,\n",
    "#     available_joints=[target_link],\n",
    "#     consistency_check=True,\n",
    "#     history_filter=True,\n",
    "#     analysis=True\n",
    "# )\n",
    "# (sim_trajectory, update_history_signals, cc_cnts, sgp_signals, visual_all_points, visual_link_ixs, visual_grasp_points_idx, visual_grasp_points, visual_flows) = all_signals[0]\n",
    "\n",
    "# FlowBot\n",
    "trial_figs, trial_results, all_signals = trial_with_prediction(\n",
    "    obj_id=obj_id,\n",
    "    network=network,\n",
    "    n_step=30,\n",
    "    gui=False,\n",
    "    all_joint=False,\n",
    "    available_joints=[target_link],\n",
    "    website=True,\n",
    "    sgp=False,\n",
    "    analysis=True,\n",
    ")\n",
    "(sim_trajectory, update_history_signals, cc_cnts, sgp_signals, visual_all_points, visual_link_ixs, visual_grasp_points_idx, visual_grasp_points, visual_flows) = all_signals[0]\n",
    "\n",
    "\n",
    "# breakpoint()"
   ]
  },
  {
   "cell_type": "code",
   "execution_count": null,
   "metadata": {},
   "outputs": [],
   "source": [
    "import matplotlib.pyplot as plt\n",
    "\n",
    "plt.figure(figsize=(10, 6))\n",
    "\n",
    "# plt.title(f'DiT & FowBot - Door {obj_id} {target_link}')\n",
    "# plt.title(f'DiT - Door {obj_id} {target_link}')\n",
    "# plt.title(f'Flowbot - Door {obj_id} {target_link}')\n",
    "# plt.title(f'PNDiT & FlowBot - {obj_id} {target_link}')\n",
    "plt.title(f\"HisPNDiT - {obj_id} {target_link}\")\n",
    "fig, ax1 = plt.subplots()\n",
    "\n",
    "x = [i for i in range(31)]\n",
    "y = sim_trajectory\n",
    "# colors = [\"red\" if color else \"blue\" for color in colors[1:]]\n",
    "colors = [\"black\"] * 30\n",
    "# colors = [\"red\"] * 30\n",
    "\n",
    "for i in range(len(x) - 1):\n",
    "    plt.plot(x[i : i + 2], y[i : i + 2], color=colors[i], alpha=0.6)\n",
    "\n",
    "plt.xlabel(\"Step\")\n",
    "plt.yticks(np.linspace(0, 1, 11))\n",
    "plt.ylabel(\"Open ratio\")\n",
    "\n",
    "sgp_label_added = False\n",
    "history_label_added = False\n",
    "for i in range(len(update_history_signals)):\n",
    "    if sgp_signals[i]:\n",
    "        if not sgp_label_added:\n",
    "            plt.plot(x[i], y[i], marker='^', color='yellow', markersize=15, alpha=0.8, label='SGP')\n",
    "            sgp_label_added = True\n",
    "        else:\n",
    "            plt.plot(x[i], y[i], marker='^', color='yellow', markersize=15, alpha=0.8)\n",
    "    if update_history_signals[i]:\n",
    "        if not history_label_added:\n",
    "            plt.plot(x[i], y[i], marker='*', color='red', markersize=10, alpha=0.6, label='History')\n",
    "            history_label_added = True\n",
    "        else:\n",
    "            plt.plot(x[i], y[i], marker='*', color='red', markersize=10, alpha=0.6)\n",
    "    \n",
    "plt.legend()\n",
    "\n",
    "new_cc_cnts = [0] * len(x)\n",
    "for i in range(1, len(cc_cnts)):\n",
    "    new_cc_cnts[i] = cc_cnts[i] + 1\n",
    "new_cc_cnts[0] = 1\n",
    "\n",
    "ax2 = ax1.twinx()\n",
    "# Plotting the second dataset\n",
    "ax2.bar(x, new_cc_cnts, color='blue', alpha=0.2)\n",
    "ax2.set_ylabel('Trial counts', color='purple')\n",
    "ax2.tick_params(axis='y', labelcolor='purple')\n",
    "\n",
    "\n",
    "# plt.savefig(f'./traj_visuals/{obj_id}_{target_link}_dit&flowbot.jpg')\n",
    "# plt.savefig(f'./traj_visuals/{obj_id}_{target_link}_dit.jpg')\n",
    "# plt.savefig(f'./traj_visuals/{obj_id}_{target_link}_flowbot.jpg')\n",
    "# plt.savefig(f'./traj_visuals/{obj_id}_{target_link}_pndit&flowbot.jpg')\n",
    "plt.savefig(f\"./traj_visuals/{obj_id}_{target_link}_hispndit.jpg\")"
   ]
  },
  {
   "cell_type": "code",
   "execution_count": null,
   "metadata": {},
   "outputs": [],
   "source": [
    "trial_figs[target_link].show()"
   ]
  },
  {
   "cell_type": "markdown",
   "metadata": {},
   "source": [
    "### Grasp point & flow visual"
   ]
  },
  {
   "cell_type": "code",
   "execution_count": null,
   "metadata": {},
   "outputs": [],
   "source": [
    "from flowbot3d.grasping.agents.flowbot3d import FlowNetAnimation\n",
    "from open_anything_diffusion.metrics.trajectory import normalize_trajectory\n",
    "\n",
    "animation = FlowNetAnimation()\n",
    "\n",
    "for (P_world, link_ixs, grasp_point_idx, grasp_point, flow) in zip(visual_all_points, visual_link_ixs, visual_grasp_points_idx, visual_grasp_points, visual_flows):\n",
    "    print(P_world[link_ixs][grasp_point_idx], grasp_point)\n",
    "    segmented_flow = np.zeros_like(P_world[link_ixs])\n",
    "    segmented_flow[grasp_point_idx] = flow\n",
    "    full_flow = np.zeros_like(P_world)\n",
    "    full_flow[link_ixs] = segmented_flow\n",
    "    full_flow = np.array(\n",
    "        normalize_trajectory(\n",
    "            torch.from_numpy(np.expand_dims(full_flow, 1))\n",
    "        ).squeeze()\n",
    "    )\n",
    "    colors = [\"red\"] * 1200\n",
    "    animation.add_trace(\n",
    "        torch.as_tensor(P_world),\n",
    "        torch.as_tensor([P_world]),\n",
    "        torch.as_tensor([full_flow * 3]),\n",
    "        colors,\n",
    "    )\n",
    "\n",
    "animation.animate()"
   ]
  },
  {
   "cell_type": "markdown",
   "metadata": {},
   "source": [
    "### Grasp point & flow visual (static)"
   ]
  },
  {
   "cell_type": "code",
   "execution_count": null,
   "metadata": {},
   "outputs": [],
   "source": [
    "import pickle\n",
    "with open(f'data_flowbot3D_{obj_id}_{target_link.replace(\"_\", \"\")}.pkl', 'wb') as f:\n",
    "    pickle.dump({\n",
    "        'flow_visual': trial_figs[target_link],\n",
    "        # 'grasp_visual': animation,\n",
    "        'visual_points': visual_all_points,\n",
    "        'visual_link_ixs': visual_link_ixs,\n",
    "        'visual_grasp_points_idx': visual_grasp_points_idx,\n",
    "        'visual_grasp_points': visual_grasp_points,\n",
    "        'visual_flow': visual_flows,\n",
    "    }, f) "
   ]
  },
  {
   "cell_type": "code",
   "execution_count": null,
   "metadata": {},
   "outputs": [],
   "source": [
    "import numpy as np\n",
    "import plotly.graph_objects as go\n",
    "import importlib\n",
    "import plotly.io as pio\n",
    "\n",
    "step = 0\n",
    "points, link_ixs, grasp_point_idx, grasp_point, flow = visual_all_points[step], visual_link_ixs[step], visual_grasp_points_idx[step], visual_grasp_points[step], visual_flows[step]\n",
    "num_points = 1200\n",
    "\n",
    "# Color part of the points red and others blue\n",
    "colors = np.array(['blue'] * (num_points))\n",
    "colors[link_ixs] = 'red'\n",
    "\n",
    "# Grasp arrow\n",
    "arrow_origin = np.array(grasp_point)\n",
    "arrow_direction = np.array(flow / np.linalg.norm(flow) * 0.3)\n",
    "arrow_end = arrow_origin + arrow_direction\n",
    "\n",
    "# Create a scatter plot for the point cloud\n",
    "scatter = go.Scatter3d(\n",
    "    x=points[:, 0], y=points[:, 1], z=points[:, 2],\n",
    "    mode='markers',\n",
    "    marker=dict(\n",
    "        size=3,\n",
    "        color=colors,\n",
    "        opacity=0.2\n",
    "    )\n",
    ")\n",
    "\n",
    "\n",
    "arrow = go.Scatter3d(\n",
    "    x=[arrow_origin[0], arrow_end[0]],\n",
    "    y=[arrow_origin[1], arrow_end[1]],\n",
    "    z=[arrow_origin[2], arrow_end[2]],\n",
    "    mode='lines+markers',\n",
    "    line=dict(color='green', width=10),\n",
    "    marker=dict(size=3, color='black')\n",
    ")\n",
    "\n",
    "cone = go.Cone(x=[arrow_end[0]], y=[arrow_end[1]], z=[arrow_end[2]], u=[(arrow_end[0]-arrow_origin[0]) * 0.7], v=[(arrow_end[1]-arrow_origin[1]) * 0.7], w=[(arrow_end[2]-arrow_origin[2]) * 0.7], colorscale='Greens', showscale=False)\n",
    "\n",
    "# Combine the scatter plot and the arrow\n",
    "fig = go.Figure(data=[scatter, arrow, cone])\n",
    "\n",
    "camera = dict(\n",
    "    up=dict(x=0, y=0, z=0.5),\n",
    "    center=dict(x=0, y=0.05, z=0.05),\n",
    "    eye=dict(x=1.32, y=0.48, z=0.84)\n",
    ")\n",
    "\n",
    "fig.update_layout(\n",
    "    scene=dict(\n",
    "        xaxis=dict(visible=False, range=[-0.5, 0.5]),\n",
    "        yaxis=dict(visible=False),\n",
    "        zaxis=dict(visible=False),\n",
    "        xaxis_showspikes=False,\n",
    "        yaxis_showspikes=False,\n",
    "        zaxis_showspikes=False,\n",
    "        bgcolor='rgba(255,255,255,1)'\n",
    "    ),\n",
    "    width=500,\n",
    "    height=500,\n",
    "    showlegend=False,\n",
    "    coloraxis_showscale=False,\n",
    "    margin=dict(l=0, r=0, b=0, t=0),\n",
    "    paper_bgcolor='rgba(0,0,0,0)',\n",
    "    scene_camera=camera,\n",
    ")\n",
    "\n",
    "# Show plot\n",
    "fig.show()\n",
    "# pio.write_image(fig, f'{step}.jpeg', format='jpeg')\n",
    "# fig.to_image(f'{step}.jpeg')\n"
   ]
  },
  {
   "cell_type": "code",
   "execution_count": null,
   "metadata": {},
   "outputs": [],
   "source": [
    "scatter"
   ]
  },
  {
   "cell_type": "code",
   "execution_count": null,
   "metadata": {},
   "outputs": [],
   "source": [
    "print(arrow_origin, arrow_end)"
   ]
  },
  {
   "cell_type": "markdown",
   "metadata": {},
   "source": [
    "## Read simulation results - generate demos!"
   ]
  },
  {
   "cell_type": "code",
   "execution_count": null,
   "metadata": {},
   "outputs": [],
   "source": [
    "import json\n",
    "with open('/home/yishu/open_anything_diffusion/logs/sim_demo_trajectory_pn++/2024-06-22/11-37-33/logs/instance_result.json', 'r') as f:\n",
    "    data = json.load(f)"
   ]
  },
  {
   "cell_type": "code",
   "execution_count": null,
   "metadata": {},
   "outputs": [],
   "source": [
    "data"
   ]
  },
  {
   "cell_type": "code",
   "execution_count": null,
   "metadata": {},
   "outputs": [],
   "source": [
    "import pickle as pkl\n",
    "with open('/home/yishu/open_anything_diffusion/logs/sim_demo_trajectory_pn++/2024-06-22/11-37-33/logs/flow_vis/8867_link_1.pkl', 'rb') as f:\n",
    "    animation = pkl.load(f)"
   ]
  },
  {
   "cell_type": "code",
   "execution_count": null,
   "metadata": {},
   "outputs": [],
   "source": [
    "animation.show()"
   ]
  }
 ],
 "metadata": {
  "kernelspec": {
   "display_name": "openany",
   "language": "python",
   "name": "python3"
  },
  "language_info": {
   "codemirror_mode": {
    "name": "ipython",
    "version": 3
   },
   "file_extension": ".py",
   "mimetype": "text/x-python",
   "name": "python",
   "nbconvert_exporter": "python",
   "pygments_lexer": "ipython3",
   "version": "3.9.17"
  }
 },
 "nbformat": 4,
 "nbformat_minor": 2
}
