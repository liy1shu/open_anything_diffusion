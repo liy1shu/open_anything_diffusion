{
 "cells": [
  {
   "cell_type": "code",
   "execution_count": null,
   "metadata": {},
   "outputs": [],
   "source": [
    "import numpy as np\n",
    "import torch\n",
    "\n",
    "from open_anything_diffusion.simulations.simulation import *\n",
    "\n",
    "np.random.seed(42)\n",
    "torch.manual_seed(42)\n",
    "torch.set_printoptions(precision=10)  # Set higher precision for PyTorch outputs\n",
    "np.set_printoptions(precision=10)\n",
    "from hydra import compose, initialize\n",
    "\n",
    "initialize(config_path=\"../../configs\", version_base=\"1.3\")\n",
    "cfg = compose(config_name=\"eval_sim_switch\")\n",
    "# cfg = compose(config_name=\"eval_sim\")\n",
    "\n",
    "from open_anything_diffusion.models.flow_diffuser_dit import (\n",
    "    FlowTrajectoryDiffuserSimulationModule_DiT,\n",
    ")\n",
    "from open_anything_diffusion.models.flow_diffuser_pndit import (\n",
    "    FlowTrajectoryDiffuserSimulationModule_PNDiT,\n",
    ")\n",
    "from open_anything_diffusion.models.modules.history_encoder import HistoryEncoder\n",
    "from open_anything_diffusion.models.modules.dit_models import DiT, PN2DiT, PN2HisDiT"
   ]
  },
  {
   "cell_type": "markdown",
   "metadata": {},
   "source": [
    "## HisPNDiT"
   ]
  },
  {
   "cell_type": "code",
   "execution_count": null,
   "metadata": {},
   "outputs": [],
   "source": [
    "from open_anything_diffusion.models.flow_diffuser_hispndit import (\n",
    "    FlowTrajectoryDiffuserSimulationModule_HisPNDiT,\n",
    ")\n",
    "\n",
    "# History model\n",
    "network = {\n",
    "    \"DiT\": PN2HisDiT(\n",
    "        history_embed_dim=128,\n",
    "        in_channels=3,\n",
    "        depth=5,\n",
    "        hidden_size=128,\n",
    "        num_heads=4,\n",
    "        # depth=8,\n",
    "        # hidden_size=256,\n",
    "        # num_heads=4,\n",
    "        learn_sigma=True,\n",
    "    ).cuda(),\n",
    "    \"History\": HistoryEncoder(\n",
    "        history_dim=128,\n",
    "        history_len=1,\n",
    "        batch_norm=True,\n",
    "        transformer=False,\n",
    "        repeat_dim=False,\n",
    "    ).cuda(),\n",
    "}\n",
    "\n",
    "# ckpt_file = \"/home/yishu/open_anything_diffusion/logs/train_trajectory_diffuser_hispndit/2024-05-25/02-00-54/checkpoints/epoch=299-step=248700-val_loss=0.00-weights-only.ckpt\"\n",
    "# ckpt_file = \"/home/yishu/open_anything_diffusion/logs/train_trajectory_diffuser_hispndit/2024-05-25/02-00-54/checkpoints/epoch=359-step=298440.ckpt\"\n",
    "ckpt_file = \"/home/yishu/open_anything_diffusion/pretrained/fullset_half_half_hispndit.ckpt\"\n",
    "switch_model = FlowTrajectoryDiffuserSimulationModule_HisPNDiT(\n",
    "    network, inference_cfg=cfg.inference, model_cfg=cfg.model\n",
    ").cuda()\n",
    "switch_model.load_from_ckpt(ckpt_file)\n",
    "switch_model.eval()"
   ]
  },
  {
   "cell_type": "markdown",
   "metadata": {},
   "source": [
    "## FlowBot"
   ]
  },
  {
   "cell_type": "code",
   "execution_count": null,
   "metadata": {},
   "outputs": [],
   "source": [
    "# import rpad.pyg.nets.pointnet2 as pnp\n",
    "# network = pnp.PN2Dense(\n",
    "#     in_channels=0,\n",
    "#     out_channels=3,\n",
    "#     p=pnp.PN2DenseParams(),\n",
    "# )\n",
    "\n",
    "# ckpt_file = \"/home/yishu/open_anything_diffusion/pretrained/fullset_half_half_flowbotRO.ckpt\"\n",
    "\n",
    "# # Load the network weights.\n",
    "# ckpt = torch.load(ckpt_file)\n",
    "# network.load_state_dict(\n",
    "#     {k.partition(\".\")[2]: v for k, v, in ckpt[\"state_dict\"].items()}\n",
    "# )\n",
    "# network.eval()"
   ]
  },
  {
   "cell_type": "markdown",
   "metadata": {},
   "source": [
    "## Simulation"
   ]
  },
  {
   "cell_type": "code",
   "execution_count": null,
   "metadata": {},
   "outputs": [],
   "source": [
    "obj_id = \"8877\"\n",
    "joint_id = 1\n",
    "pm_dir = os.path.expanduser(\"~/datasets/partnet-mobility/convex\")"
   ]
  },
  {
   "cell_type": "code",
   "execution_count": null,
   "metadata": {},
   "outputs": [],
   "source": [
    "raw_data = PMObject(os.path.join(pm_dir, obj_id))\n",
    "available_joints = raw_data.semantics.by_type(\"hinge\") + raw_data.semantics.by_type(\n",
    "    \"slider\"\n",
    ")\n",
    "available_joints = [joint.name for joint in available_joints]\n",
    "target_link = available_joints[joint_id]\n",
    "print(target_link)\n",
    "\n",
    "# # History\n",
    "# trial_figs, trial_results, all_signals = trial_with_diffuser_history(\n",
    "#     obj_id=obj_id,\n",
    "#     model=switch_model,\n",
    "#     history_model=switch_model,\n",
    "#     n_step=30,\n",
    "#     gui=False,\n",
    "#     website=True,\n",
    "#     all_joint=False,\n",
    "#     available_joints=[target_link],\n",
    "#     consistency_check=True,\n",
    "#     history_filter=True,\n",
    "#     analysis=True\n",
    "# )\n",
    "# (sim_trajectory, update_history_signals, cc_cnts, sgp_signals) = all_signals[0]\n",
    "\n",
    "# FlowBot\n",
    "trial_figs, trial_results, sim_trajectory = trial_with_prediction(\n",
    "    obj_id=obj_id,\n",
    "    network=network,\n",
    "    n_step=30,\n",
    "    gui=False,\n",
    "    all_joint=False,\n",
    "    available_joints=[target_link],\n",
    "    website=True,\n",
    ")\n",
    "\n",
    "\n",
    "# breakpoint()"
   ]
  },
  {
   "cell_type": "code",
   "execution_count": null,
   "metadata": {},
   "outputs": [],
   "source": [
    "import matplotlib.pyplot as plt\n",
    "\n",
    "plt.figure(figsize=(10, 6))\n",
    "\n",
    "# plt.title(f'DiT & FowBot - Door {obj_id} {target_link}')\n",
    "# plt.title(f'DiT - Door {obj_id} {target_link}')\n",
    "# plt.title(f'Flowbot - Door {obj_id} {target_link}')\n",
    "# plt.title(f'PNDiT & FlowBot - {obj_id} {target_link}')\n",
    "plt.title(f\"HisPNDiT - {obj_id} {target_link}\")\n",
    "fig, ax1 = plt.subplots()\n",
    "\n",
    "x = [i for i in range(31)]\n",
    "y = sim_trajectory\n",
    "# colors = [\"red\" if color else \"blue\" for color in colors[1:]]\n",
    "colors = [\"black\"] * 30\n",
    "# colors = [\"red\"] * 30\n",
    "\n",
    "for i in range(len(x) - 1):\n",
    "    plt.plot(x[i : i + 2], y[i : i + 2], color=colors[i], alpha=0.6)\n",
    "\n",
    "plt.xlabel(\"Step\")\n",
    "plt.yticks(np.linspace(0, 1, 11))\n",
    "plt.ylabel(\"Open ratio\")\n",
    "\n",
    "sgp_label_added = False\n",
    "history_label_added = False\n",
    "for i in range(len(update_history_signals)):\n",
    "    if sgp_signals[i]:\n",
    "        if not sgp_label_added:\n",
    "            plt.plot(x[i], y[i], marker='^', color='yellow', markersize=15, alpha=0.8, label='SGP')\n",
    "            sgp_label_added = True\n",
    "        else:\n",
    "            plt.plot(x[i], y[i], marker='^', color='yellow', markersize=15, alpha=0.8)\n",
    "    if update_history_signals[i]:\n",
    "        if not history_label_added:\n",
    "            plt.plot(x[i], y[i], marker='*', color='red', markersize=10, alpha=0.6, label='History')\n",
    "            history_label_added = True\n",
    "        else:\n",
    "            plt.plot(x[i], y[i], marker='*', color='red', markersize=10, alpha=0.6)\n",
    "    \n",
    "plt.legend()\n",
    "\n",
    "new_cc_cnts = [0] * len(x)\n",
    "for i in range(1, len(cc_cnts)):\n",
    "    new_cc_cnts[i] = cc_cnts[i] + 1\n",
    "new_cc_cnts[0] = 1\n",
    "\n",
    "ax2 = ax1.twinx()\n",
    "# Plotting the second dataset\n",
    "ax2.bar(x, new_cc_cnts, color='blue', alpha=0.2)\n",
    "ax2.set_ylabel('Trial counts', color='purple')\n",
    "ax2.tick_params(axis='y', labelcolor='purple')\n",
    "\n",
    "\n",
    "# plt.savefig(f'./traj_visuals/{obj_id}_{target_link}_dit&flowbot.jpg')\n",
    "# plt.savefig(f'./traj_visuals/{obj_id}_{target_link}_dit.jpg')\n",
    "# plt.savefig(f'./traj_visuals/{obj_id}_{target_link}_flowbot.jpg')\n",
    "# plt.savefig(f'./traj_visuals/{obj_id}_{target_link}_pndit&flowbot.jpg')\n",
    "plt.savefig(f\"./traj_visuals/{obj_id}_{target_link}_hispndit.jpg\")"
   ]
  },
  {
   "cell_type": "code",
   "execution_count": null,
   "metadata": {},
   "outputs": [],
   "source": [
    "trial_figs['link_2'].show()"
   ]
  },
  {
   "cell_type": "markdown",
   "metadata": {},
   "source": [
    "## Read simulation results - generate demos!"
   ]
  },
  {
   "cell_type": "code",
   "execution_count": null,
   "metadata": {},
   "outputs": [],
   "source": [
    "import json\n",
    "with open('/home/yishu/open_anything_diffusion/logs/sim_demo_trajectory_pn++/2024-06-22/11-37-33/logs/instance_result.json', 'r') as f:\n",
    "    data = json.load(f)"
   ]
  },
  {
   "cell_type": "code",
   "execution_count": null,
   "metadata": {},
   "outputs": [],
   "source": [
    "data"
   ]
  },
  {
   "cell_type": "code",
   "execution_count": null,
   "metadata": {},
   "outputs": [],
   "source": [
    "import pickle as pkl\n",
    "with open('/home/yishu/open_anything_diffusion/logs/sim_demo_trajectory_pn++/2024-06-22/11-37-33/logs/flow_vis/8867_link_1.pkl', 'rb') as f:\n",
    "    animation = pkl.load(f)"
   ]
  },
  {
   "cell_type": "code",
   "execution_count": null,
   "metadata": {},
   "outputs": [],
   "source": [
    "animation.show()"
   ]
  }
 ],
 "metadata": {
  "kernelspec": {
   "display_name": "openany",
   "language": "python",
   "name": "python3"
  },
  "language_info": {
   "codemirror_mode": {
    "name": "ipython",
    "version": 3
   },
   "file_extension": ".py",
   "mimetype": "text/x-python",
   "name": "python",
   "nbconvert_exporter": "python",
   "pygments_lexer": "ipython3",
   "version": "3.9.17"
  }
 },
 "nbformat": 4,
 "nbformat_minor": 2
}
