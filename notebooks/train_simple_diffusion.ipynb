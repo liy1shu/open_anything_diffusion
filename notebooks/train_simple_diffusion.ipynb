{
 "cells": [
  {
   "cell_type": "code",
   "execution_count": null,
   "metadata": {},
   "outputs": [],
   "source": [
    "# Create a dataset.\n",
    "from open_anything_diffusion.datasets.flow_trajectory import FlowTrajectoryDataModule\n",
    "datamodule = FlowTrajectoryDataModule(\n",
    "        root=\"/home/yishu/datasets/partnet-mobility\",\n",
    "        batch_size=1,\n",
    "        num_workers=30,\n",
    "        n_proc=2,\n",
    "        seed=42,\n",
    "        trajectory_len=1,  # Only used when training trajectory model\n",
    "    )"
   ]
  },
  {
   "cell_type": "code",
   "execution_count": null,
   "metadata": {},
   "outputs": [],
   "source": [
    "# Define a contextual model.\n",
    "# from open_anything_diffusion.models.diffusion.model import PNDiffuser\n",
    "\n",
    "from torch import nn\n",
    "import torch\n",
    "\n",
    "import rpad.pyg.nets.pointnet2 as pnp\n",
    "from diffusers.models.embeddings import TimestepEmbedding, Timesteps\n",
    "\n",
    "class PNTrajPredictor(nn.Module):\n",
    "    def __init__(self):\n",
    "        super().__init__()\n",
    "\n",
    "        self.traj_len = 1\n",
    "        time_emb_dim = 64\n",
    "        \n",
    "        # Module to go from timestep to \n",
    "        self.time_proj = Timesteps(num_channels=time_emb_dim, flip_sin_to_cos=True, downscale_freq_shift=0)\n",
    "        self.time_emb = TimestepEmbedding(in_channels=time_emb_dim, time_embed_dim=time_emb_dim)\n",
    "        \n",
    "        # Backbone.\n",
    "        in_channels = 3 * self.traj_len + time_emb_dim\n",
    "        self.backbone = pnp.PN2Dense(\n",
    "            in_channels=in_channels,\n",
    "            out_channels = 3 * self.traj_len,\n",
    "            p=pnp.PN2DenseParams(),\n",
    "        )\n",
    "\n",
    "    def forward(self, batch):\n",
    "\n",
    "        # Make the shape right.\n",
    "        timesteps = batch.timesteps\n",
    "        traj_noise = batch.traj_noise   # bs * 1200, 3 * traj_len\n",
    "\n",
    "        # Get the time embedding.\n",
    "        t_emb = self.time_emb(self.time_proj(timesteps))  # bs, 64\n",
    "        # Repeat the time embedding. MAKE SURE THAT EACH BATCH ITEM IS INDEPENDENT!\n",
    "        t_emb = t_emb.repeat(1, traj_noise.shape[0], 1)  # bs, 1200, 64\n",
    "        t_emb = torch.flatten(t_emb, start_dim=0, end_dim=1)  # bs * 1200, 64\n",
    "\n",
    "        # Concatenate the time embedding with the trajectory noise.\n",
    "        x = torch.cat([traj_noise, t_emb], dim=-1)  # bs * 1200, 64 + 3 * traj_len\n",
    "\n",
    "        # Put it back in the batch.\n",
    "        batch.x = x\n",
    "\n",
    "        # The backbone.\n",
    "        pred = self.backbone(batch)  # bs * 1200, 3 * traj_len\n",
    "        \n",
    "        return pred.reshape(pred.shape[0], self.traj_len, 3)"
   ]
  },
  {
   "cell_type": "code",
   "execution_count": null,
   "metadata": {},
   "outputs": [],
   "source": [
    "# Get the first element of the training dataset.\n",
    "batch = next(iter(datamodule.train_dataloader())).cuda()"
   ]
  },
  {
   "cell_type": "code",
   "execution_count": null,
   "metadata": {},
   "outputs": [],
   "source": [
    "samples = list(enumerate(datamodule.train_dataloader()))\n",
    "# breakpoint()\n",
    "sample = samples[0][1]"
   ]
  },
  {
   "cell_type": "code",
   "execution_count": null,
   "metadata": {},
   "outputs": [],
   "source": [
    "batch"
   ]
  },
  {
   "cell_type": "code",
   "execution_count": null,
   "metadata": {},
   "outputs": [],
   "source": [
    "from diffusers import DDPMScheduler\n",
    "noise_scheduler = DDPMScheduler(num_train_timesteps=500)"
   ]
  },
  {
   "cell_type": "code",
   "execution_count": null,
   "metadata": {},
   "outputs": [],
   "source": [
    "model = PNTrajPredictor().cuda()\n",
    "optimizer = torch.optim.AdamW(\n",
    "    model.parameters(), lr=1e-4\n",
    ")"
   ]
  },
  {
   "cell_type": "code",
   "execution_count": null,
   "metadata": {},
   "outputs": [],
   "source": [
    "device = \"cuda\"\n",
    "# Write a training loop.\n",
    "for i in range(10000):\n",
    "    model.train()\n",
    "\n",
    "    # Add timesteps and trajectory noise to the batch.\n",
    "    batch.timesteps = torch.randint(0, noise_scheduler.num_train_timesteps, (1,), device=device)\n",
    "\n",
    "    noise = torch.randn_like(batch.delta, device=device)\n",
    "    batch.traj_noise = noise_scheduler.add_noise(batch.delta, noise, batch.timesteps)\n",
    "    batch.traj_noise = torch.flatten(batch.traj_noise, start_dim=1, end_dim=2)\n",
    "\n",
    "    # Get the prediction.\n",
    "    model.zero_grad()\n",
    "    pred = model(batch)\n",
    "\n",
    "    # Get the loss.\n",
    "    loss = torch.nn.functional.mse_loss(pred, noise)\n",
    "\n",
    "    loss.backward()\n",
    "    optimizer.step()\n",
    "\n",
    "    print(loss.item())\n"
   ]
  },
  {
   "cell_type": "code",
   "execution_count": null,
   "metadata": {},
   "outputs": [],
   "source": [
    "# Inference\n",
    "noisy_input = torch.randn(1200, 1, 3).cuda()\n",
    "\n",
    "with torch.no_grad():\n",
    "    for t in noise_scheduler.timesteps:\n",
    "        batch.timesteps = torch.tensor([t.item()]).cuda()\n",
    "        batch.traj_noise = noisy_input\n",
    "        batch.traj_noise = torch.flatten(batch.traj_noise, start_dim=1, end_dim=2)\n",
    "\n",
    "        model_output = model(batch)\n",
    "\n",
    "        noisy_input = noise_scheduler.step(\n",
    "            model_output, t, noisy_input\n",
    "        ).prev_sample\n",
    "\n",
    "        # batch.traj_noise = torch.flatten(noisy_input, start_dim=1, end_dim=2)"
   ]
  },
  {
   "cell_type": "code",
   "execution_count": null,
   "metadata": {},
   "outputs": [],
   "source": [
    "noisy_input[batch.mask==1]"
   ]
  },
  {
   "cell_type": "code",
   "execution_count": null,
   "metadata": {},
   "outputs": [],
   "source": [
    "batch.delta"
   ]
  },
  {
   "cell_type": "code",
   "execution_count": null,
   "metadata": {},
   "outputs": [],
   "source": [
    "batch.delta[batch.mask==1].shape"
   ]
  }
 ],
 "metadata": {
  "kernelspec": {
   "display_name": "openany",
   "language": "python",
   "name": "python3"
  },
  "language_info": {
   "codemirror_mode": {
    "name": "ipython",
    "version": 3
   },
   "file_extension": ".py",
   "mimetype": "text/x-python",
   "name": "python",
   "nbconvert_exporter": "python",
   "pygments_lexer": "ipython3",
   "version": "3.9.17"
  }
 },
 "nbformat": 4,
 "nbformat_minor": 2
}
