{
 "cells": [
  {
   "cell_type": "markdown",
   "metadata": {},
   "source": []
  },
  {
   "cell_type": "code",
   "execution_count": null,
   "metadata": {},
   "outputs": [],
   "source": [
    "## Diffusion model\n",
    "from dataclasses import dataclass\n",
    "\n",
    "import matplotlib.pyplot as plt\n",
    "import torch\n",
    "import torch.nn.functional as F\n",
    "\n",
    "# import rpad.pyg.nets.pointnet2 as pnp\n",
    "import tqdm\n",
    "import wandb\n",
    "from diffusers import DDPMScheduler\n",
    "from diffusers.optimization import get_cosine_schedule_with_warmup\n",
    "from flowbot3d.grasping.agents.flowbot3d import FlowNetAnimation\n",
    "\n",
    "from open_anything_diffusion.datasets.flow_trajectory import FlowTrajectoryDataModule\n",
    "from open_anything_diffusion.models.diffusion.model import PNDiffuser\n",
    "from open_anything_diffusion.models.diffusion.diffuser import TrajDiffuser\n"
   ]
  },
  {
   "cell_type": "code",
   "execution_count": null,
   "metadata": {},
   "outputs": [],
   "source": [
    "\n",
    "@dataclass\n",
    "class TrainingConfig:\n",
    "    device = \"cuda\"\n",
    "\n",
    "    image_size = 128  # the generated image resolution\n",
    "    train_batch_size = 16\n",
    "    eval_batch_size = 16  # how many images to sample during evaluation\n",
    "    num_epochs = 100000\n",
    "    # num_epochs = 10\n",
    "    gradient_accumulation_steps = 1\n",
    "    learning_rate = 1e-4\n",
    "    lr_warmup_steps = 1000\n",
    "    save_image_epochs = 10\n",
    "    save_model_epochs = 30\n",
    "    mixed_precision = \"no\"  # `no` for float32, `fp16` for automatic mixed precision\n",
    "    # output_dir = \"ddpm-butterflies-128\"  # the model name locally and on the HF Hub\n",
    "    train_sample_number = 1\n",
    "\n",
    "    traj_len = 1\n",
    "    # Diffuser params\n",
    "    num_train_timesteps = 100\n",
    "    seed = 0\n",
    "    sample_size = [1, 1200]\n",
    "    in_channels = 3\n",
    "    out_channels = 3\n",
    "    cross_attention_dim = 3\n",
    "    block_out_channels = [128, 256, 512, 512]\n",
    "    attention_head_dim = 3\n",
    "\n",
    "    # ckpt params\n",
    "    read_ckpt_path = \"./diffusion_best_ckpt.pth\"\n",
    "    save_ckpt_path = \"./diffusion_overfit_best_5_ckpt.pth\""
   ]
  },
  {
   "cell_type": "code",
   "execution_count": null,
   "metadata": {},
   "outputs": [],
   "source": [
    "config = TrainingConfig()\n",
    "datamodule = FlowTrajectoryDataModule(\n",
    "        root=\"/home/yishu/datasets/partnet-mobility\",\n",
    "        batch_size=1,\n",
    "        num_workers=30,\n",
    "        n_proc=2,\n",
    "        seed=42,\n",
    "        trajectory_len=config.traj_len,  # Only used when training trajectory model\n",
    "    )\n",
    "\n",
    "train_dataloader = datamodule.train_dataloader()\n",
    "val_dataloader = datamodule.train_val_dataloader()\n",
    "\n",
    "# # Overfit\n",
    "samples = list(enumerate(train_dataloader))\n",
    "# breakpoint()\n",
    "sample = samples[0][1]"
   ]
  },
  {
   "cell_type": "code",
   "execution_count": null,
   "metadata": {},
   "outputs": [],
   "source": [
    "sample"
   ]
  },
  {
   "cell_type": "code",
   "execution_count": null,
   "metadata": {},
   "outputs": [],
   "source": [
    "model = PNDiffuser(\n",
    "            in_channels=3 * config.traj_len,\n",
    "            # sample_size=1200,\n",
    "            traj_len=config.traj_len,\n",
    "            time_embed_dim=64,\n",
    "            # emb_dims=3\n",
    "        )"
   ]
  },
  {
   "cell_type": "code",
   "execution_count": null,
   "metadata": {},
   "outputs": [],
   "source": [
    "model(torch.rand(1,3,1,1200), 0, sample)"
   ]
  },
  {
   "cell_type": "code",
   "execution_count": null,
   "metadata": {},
   "outputs": [],
   "source": []
  }
 ],
 "metadata": {
  "kernelspec": {
   "display_name": "openany",
   "language": "python",
   "name": "python3"
  },
  "language_info": {
   "codemirror_mode": {
    "name": "ipython",
    "version": 3
   },
   "file_extension": ".py",
   "mimetype": "text/x-python",
   "name": "python",
   "nbconvert_exporter": "python",
   "pygments_lexer": "ipython3",
   "version": "3.9.17"
  }
 },
 "nbformat": 4,
 "nbformat_minor": 2
}
