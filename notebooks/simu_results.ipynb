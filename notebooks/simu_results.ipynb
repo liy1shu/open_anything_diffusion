{
 "cells": [
  {
   "cell_type": "code",
   "execution_count": null,
   "metadata": {},
   "outputs": [],
   "source": [
    "# artifact_id_dict = {\n",
    "#     # # run-{}-train_metric_table:v0  \n",
    "#     # \"flowbot\": 'run-pjnc1g2v-simulation_metric_table:v827',  # without mask\n",
    "#     # # \"traj1\": 'wcx2tyyn',\n",
    "#     # \"traj5\": 'run-zes1lcl9-simulation_metric_table:v829',\n",
    "#     # \"traj10\": 'run-bhto6if3-simulation_metric_table:v820',\n",
    "#     # \"traj15\": 'run-ujqlvh40-simulation_metric_table:v834',\n",
    "#     # \"traj20\": 'run-sk9xeuyz-simulation_metric_table:v835',\n",
    "\n",
    "#     \"groundtruth\": 'run-dcclv4id-simulation_metric_table:v538',\n",
    "#     \"flowbot\": 'run-79wkxsxs-simulation_metric_table:v710', \n",
    "#     \"traj1\": 'run-m7ohvw2j-simulation_metric_table:v695',\n",
    "#     \"traj5\": 'run-zdlpo101-simulation_metric_table:v714',\n",
    "#     \"traj7\": 'run-593w003h-simulation_metric_table:v714',\n",
    "#     \"traj10\": 'run-w7e49oz6-simulation_metric_table:v708',\n",
    "#     \"traj15\": 'run-9tm1ymq0-simulation_metric_table:v707',\n",
    "#     \"traj20\": 'run-rmmc64ws-simulation_metric_table:v701',\n",
    "#     \"gt5\": 'run-h29bcw85-simulation_metric_table:v557',\n",
    "#     \"gt10\": 'run-iodu3rnu-simulation_metric_table:v548',\n",
    "#     \"gt15\": 'run-zez98xqr-simulation_metric_table:v537',\n",
    "#     \"gt20\": 'run-e3zxo63u-simulation_metric_table:v563',\n",
    "\n",
    "# }"
   ]
  },
  {
   "cell_type": "code",
   "execution_count": null,
   "metadata": {},
   "outputs": [],
   "source": [
    "artifact_id_dict = {\n",
    "    # # run-{}-train_metric_table:v0  \n",
    "    # \"flowbot\": 'run-pjnc1g2v-simulation_metric_table:v827',  # without mask\n",
    "    # # \"traj1\": 'wcx2tyyn',\n",
    "    # \"traj5\": 'run-zes1lcl9-simulation_metric_table:v829',\n",
    "    # \"traj10\": 'run-bhto6if3-simulation_metric_table:v820',\n",
    "    # \"traj15\": 'run-ujqlvh40-simulation_metric_table:v834',\n",
    "    # \"traj20\": 'run-sk9xeuyz-simulation_metric_table:v835',\n",
    "\n",
    "    \"groundtruth\": 'run-dcclv4id-simulation_metric_table:v538',\n",
    "    \"flowbot1\": 'run-y5sluz5a-simulation_metric_table:v835', # without mask\n",
    "    \"flowbot1(with mask)\": 'run-m7ohvw2j-simulation_metric_table:v695',\n",
    "    # \"diffuser1\": 'run-m7ohvw2j-simulation_metric_table:v695',\n",
    "}"
   ]
  },
  {
   "cell_type": "code",
   "execution_count": null,
   "metadata": {},
   "outputs": [],
   "source": [
    "import wandb\n",
    "\n",
    "api = wandb.Api()\n",
    "for model in artifact_id_dict.keys():\n",
    "    artifact_id = artifact_id_dict[model]\n",
    "    artifact = api.artifact(f'r-pad/open_anything_diffusion/{artifact_id}')\n",
    "    artifact.download()"
   ]
  },
  {
   "cell_type": "code",
   "execution_count": null,
   "metadata": {},
   "outputs": [],
   "source": [
    "import json\n",
    "import pandas as pd\n",
    "neat_dfs = pd.DataFrame()\n",
    "chao_df = pd.DataFrame()\n",
    "model_order = artifact_id_dict.keys()\n",
    "\n",
    "object_list = ['Table', 'Window', 'Microwave', 'Phone', 'WashingMachine', 'Kettle', 'Toilet', 'Toy', 'Dishwasher', 'Refrigerator', 'Safe', 'Bucket', 'Door', 'TrashCan', 'Laptop', 'Oven', 'KitchenPot', 'FoldingChair', 'Box', 'StorageFurniture', 'Stapler', 'Switch']\n",
    "desired_columns_order = ['model'] + object_list\n",
    "\n",
    "for model in artifact_id_dict.keys():\n",
    "    artifact_id = artifact_id_dict[model]\n",
    "    artifact_local_path = f'/home/yishu/open_anything_diffusion/notebooks/artifacts/{artifact_id}/simulation_metric_table.table.json'\n",
    "    with open(artifact_local_path) as file:\n",
    "        json_dict = json.load(file)\n",
    "    df = pd.DataFrame(json_dict[\"data\"], columns=json_dict[\"columns\"]).T\n",
    "    df.columns = df.loc['index']\n",
    "    # print(list(df.columns))\n",
    "    df.drop('index', inplace=True)\n",
    "    df['model'] = model\n",
    "    df = df.reindex(columns=desired_columns_order)\n",
    "    chao_df = pd.concat([chao_df, df])\n",
    "\n",
    "for metric in [\"count\", \"success_rate\", \"norm_dist\"]:\n",
    "# for metric in [\"success_rate\", \"norm_dist\"]:\n",
    "    new_df = chao_df.loc[metric].sort_values(by='model', key=lambda x: x.map({v: i for i, v in enumerate(model_order)}))\n",
    "    neat_dfs = pd.concat([neat_dfs, new_df])"
   ]
  },
  {
   "cell_type": "code",
   "execution_count": null,
   "metadata": {},
   "outputs": [],
   "source": [
    "neat_dfs"
   ]
  },
  {
   "cell_type": "code",
   "execution_count": null,
   "metadata": {},
   "outputs": [],
   "source": [
    "val_objects = [\"FoldingChair\", \"Kettle\", \"Laptop\", \"Microwave\", \"Refrigerator\",\"Stapler\", \"StorageFurniture\", \"Switch\", \"Toilet\", \"TrashCan\",\t\"Window\"]\n",
    "test_objects = [\"Box\",\"Bucket\",\"Dishwasher\",\"Door\",\"KitchenPot\", \"Oven\",\"Phone\",\"Safe\",\"Table\",\"WashingMachine\"]"
   ]
  },
  {
   "cell_type": "code",
   "execution_count": null,
   "metadata": {},
   "outputs": [],
   "source": [
    "import numpy as np\n",
    "neat_dfs[\"val_metric\"] = np.nan\n",
    "neat_dfs[\"test_metric\"] = np.nan\n",
    "reindexed_df = neat_dfs.reset_index()\n",
    "for model in list(artifact_id_dict.keys()):\n",
    "    val_count_sum = 0\n",
    "    test_count_sum = 0\n",
    "    val_success_rate_sum = 0\n",
    "    test_success_rate_sum = 0\n",
    "    val_norm_dist_sum = 0\n",
    "    test_norm_dist_sum = 0\n",
    "    for object in object_list:\n",
    "        count = reindexed_df.query(f\"index == 'count' and model=='{model}'\")[object].item()\n",
    "        if object in val_objects:\n",
    "            val_count_sum += count\n",
    "            val_success_rate_sum += reindexed_df.query(f\"index == 'success_rate' and model=='{model}'\")[object].item() * count\n",
    "            val_norm_dist_sum += reindexed_df.query(f\"index == 'norm_dist' and model=='{model}'\")[object].item() * count\n",
    "        else:\n",
    "            test_count_sum += count\n",
    "            test_success_rate_sum += reindexed_df.query(f\"index == 'success_rate' and model=='{model}'\")[object].item() * count\n",
    "            test_norm_dist_sum += reindexed_df.query(f\"index == 'norm_dist' and model=='{model}'\")[object].item() * count\n",
    "\n",
    "    reindexed_df.loc[np.logical_and(reindexed_df[\"index\"]==\"count\", reindexed_df[\"model\"]==model), \"val_metric\"] = val_count_sum\n",
    "    reindexed_df.loc[np.logical_and(reindexed_df[\"index\"]==\"count\", reindexed_df[\"model\"]==model), \"test_metric\"] = test_count_sum\n",
    "    reindexed_df.loc[np.logical_and(reindexed_df[\"index\"]==\"success_rate\", reindexed_df[\"model\"]==model), \"val_metric\"] = val_success_rate_sum / val_count_sum\n",
    "    reindexed_df.loc[np.logical_and(reindexed_df[\"index\"]==\"success_rate\", reindexed_df[\"model\"]==model), \"test_metric\"] = test_success_rate_sum / test_count_sum\n",
    "    reindexed_df.loc[np.logical_and(reindexed_df[\"index\"]==\"norm_dist\", reindexed_df[\"model\"]==model), \"val_metric\"] = 1 - val_norm_dist_sum / val_count_sum\n",
    "    reindexed_df.loc[np.logical_and(reindexed_df[\"index\"]==\"norm_dist\", reindexed_df[\"model\"]==model), \"test_metric\"] = 1 - test_norm_dist_sum / test_count_sum\n",
    "\n",
    "desired_columns_order = [\"index\", 'model', 'val_metric', 'test_metric'] + object_list\n",
    "\n",
    "reindexed_df = reindexed_df.reindex(columns=desired_columns_order)"
   ]
  },
  {
   "cell_type": "code",
   "execution_count": null,
   "metadata": {},
   "outputs": [],
   "source": [
    "reindexed_df"
   ]
  },
  {
   "cell_type": "code",
   "execution_count": null,
   "metadata": {},
   "outputs": [],
   "source": [
    "reindexed_df.to_excel('./evaluation_matrix.xlsx')"
   ]
  }
 ],
 "metadata": {
  "kernelspec": {
   "display_name": "openany",
   "language": "python",
   "name": "python3"
  },
  "language_info": {
   "codemirror_mode": {
    "name": "ipython",
    "version": 3
   },
   "file_extension": ".py",
   "mimetype": "text/x-python",
   "name": "python",
   "nbconvert_exporter": "python",
   "pygments_lexer": "ipython3",
   "version": "3.9.17"
  }
 },
 "nbformat": 4,
 "nbformat_minor": 2
}
