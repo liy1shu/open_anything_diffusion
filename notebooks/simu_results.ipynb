{
 "cells": [
  {
   "cell_type": "code",
   "execution_count": null,
   "metadata": {},
   "outputs": [],
   "source": [
    "artifact_id_dict = {\n",
    "    \"flowbot\": 'run-pjnc1g2v-simulation_metric_table:v827',  # run-{}-train_metric_table:v0\n",
    "    # \"traj1\": 'wcx2tyyn',\n",
    "    \"traj5\": 'run-zes1lcl9-simulation_metric_table:v829',\n",
    "    \"traj10\": 'run-bhto6if3-simulation_metric_table:v820',\n",
    "    \"traj15\": 'run-ujqlvh40-simulation_metric_table:v834',\n",
    "    \"traj20\": 'run-sk9xeuyz-simulation_metric_table:v835',\n",
    "}"
   ]
  },
  {
   "cell_type": "code",
   "execution_count": null,
   "metadata": {},
   "outputs": [],
   "source": [
    "import wandb\n",
    "\n",
    "api = wandb.Api()\n",
    "for model in artifact_id_dict.keys():\n",
    "    artifact_id = artifact_id_dict[model]\n",
    "    artifact = api.artifact(f'r-pad/open_anything_diffusion/{artifact_id}')\n",
    "    artifact.download()"
   ]
  },
  {
   "cell_type": "code",
   "execution_count": null,
   "metadata": {},
   "outputs": [],
   "source": [
    "import json\n",
    "import pandas as pd\n",
    "neat_dfs = pd.DataFrame()\n",
    "chao_df = pd.DataFrame()\n",
    "model_order = artifact_id_dict.keys()\n",
    "\n",
    "desired_columns_order = ['model', 'Table', 'Window', 'Microwave', 'Phone', 'WashingMachine', 'Kettle', 'Toilet', 'Toy', 'Dishwasher', 'Refrigerator', 'Safe', 'Bucket', 'Door', 'TrashCan', 'Laptop', 'Oven', 'KitchenPot', 'FoldingChair', 'Box', 'StorageFurniture', 'Stapler', 'Switch']\n",
    "\n",
    "for model in artifact_id_dict.keys():\n",
    "    artifact_id = artifact_id_dict[model]\n",
    "    artifact_local_path = f'/home/yishu/open_anything_diffusion/notebooks/artifacts/{artifact_id}/simulation_metric_table.table.json'\n",
    "    with open(artifact_local_path) as file:\n",
    "        json_dict = json.load(file)\n",
    "    df = pd.DataFrame(json_dict[\"data\"], columns=json_dict[\"columns\"]).T\n",
    "    df.columns = df.loc['index']\n",
    "    print(list(df.columns))\n",
    "    df.drop('index', inplace=True)\n",
    "    df['model'] = model\n",
    "    df = df.reindex(columns=desired_columns_order)\n",
    "    chao_df = pd.concat([chao_df, df])\n",
    "for metric in [\"count\", \"success_rate\", \"norm_dist\"]:\n",
    "    new_df = chao_df.loc[metric].sort_values(by='model', key=lambda x: x.map({v: i for i, v in enumerate(model_order)}))\n",
    "    neat_dfs = pd.concat([neat_dfs, new_df])"
   ]
  },
  {
   "cell_type": "code",
   "execution_count": null,
   "metadata": {},
   "outputs": [],
   "source": [
    "neat_dfs.to_excel('./evaluation_matrix.xlsx')"
   ]
  }
 ],
 "metadata": {
  "kernelspec": {
   "display_name": "openany",
   "language": "python",
   "name": "python3"
  },
  "language_info": {
   "codemirror_mode": {
    "name": "ipython",
    "version": 3
   },
   "file_extension": ".py",
   "mimetype": "text/x-python",
   "name": "python",
   "nbconvert_exporter": "python",
   "pygments_lexer": "ipython3",
   "version": "3.9.17"
  }
 },
 "nbformat": 4,
 "nbformat_minor": 2
}
