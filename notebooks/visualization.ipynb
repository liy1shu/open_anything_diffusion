{
 "cells": [
  {
   "cell_type": "markdown",
   "metadata": {},
   "source": [
    "## TODO: Visualization of Flow Trajectories"
   ]
  },
  {
   "cell_type": "code",
   "execution_count": null,
   "metadata": {},
   "outputs": [],
   "source": [
    "from typing import Dict, Optional, Sequence\n",
    "\n",
    "import numpy as np\n",
    "import numpy.typing as npt\n",
    "import plotly.colors as pc\n",
    "import plotly.graph_objects as go\n",
    "\n",
    "import rpad.visualize_3d.plots as v3p\n",
    "from rpad.visualize_3d.primitives import pointcloud"
   ]
  },
  {
   "cell_type": "markdown",
   "metadata": {},
   "source": [
    "### 1. Original static 3D flow visualization"
   ]
  },
  {
   "cell_type": "code",
   "execution_count": null,
   "metadata": {},
   "outputs": [],
   "source": [
    "import os\n",
    "from pathlib import Path\n",
    "\n",
    "import numpy as np\n",
    "\n",
    "import flowbot3d.datasets.flow_dataset as f3d\n",
    "import rpad.partnet_mobility_utils.dataset as rpud\n",
    "import rpad.pyg.dataset as rpd"
   ]
  },
  {
   "cell_type": "code",
   "execution_count": null,
   "metadata": {},
   "outputs": [],
   "source": [
    "root = os.path.expanduser(\"~/datasets/partnet-mobility/raw\")\n",
    "split = \"umpnet-train-train\""
   ]
  },
  {
   "cell_type": "code",
   "execution_count": null,
   "metadata": {},
   "outputs": [],
   "source": [
    "# Create the dataset in online-generation mode.\n",
    "dset = f3d.Flowbot3DDataset(root=root, split=split)"
   ]
  },
  {
   "cell_type": "code",
   "execution_count": null,
   "metadata": {},
   "outputs": [],
   "source": [
    "# Generate.\n",
    "data = dset[20]\n",
    "flow_fig(data['pos'], data['flow'])"
   ]
  },
  {
   "cell_type": "markdown",
   "metadata": {},
   "source": [
    "### 2. Dynamic 3D flow trajectory visualization"
   ]
  },
  {
   "cell_type": "code",
   "execution_count": null,
   "metadata": {},
   "outputs": [],
   "source": [
    "from flowbot3d.grasping.agents.flowbot3d import FlowNetAnimation"
   ]
  },
  {
   "cell_type": "code",
   "execution_count": null,
   "metadata": {},
   "outputs": [],
   "source": [
    "K = 20"
   ]
  },
  {
   "cell_type": "code",
   "execution_count": null,
   "metadata": {},
   "outputs": [],
   "source": [
    "from python_ml_project_template.datasets.flow_trajectory_dataset import FlowTrajectoryDataset\n",
    "traj_dataset = FlowTrajectoryDataset(root=root, split=split, \n",
    "        randomize_joints=True,\n",
    "        randomize_camera=True,\n",
    "        trajectory_len=K,\n",
    "        mode=\"both\",\n",
    "        n_points=1200)"
   ]
  },
  {
   "cell_type": "code",
   "execution_count": null,
   "metadata": {},
   "outputs": [],
   "source": [
    "import torch\n",
    "id = 40\n",
    "traj_data = traj_dataset[id]\n",
    "\n",
    "animation = FlowNetAnimation()\n",
    "for i in range(K):\n",
    "    pcd = traj_data['pos'] if i==0 else traj_data['trajectory'][:, (i-1), :3]\n",
    "    mask = traj_data['mask']\n",
    "    flow = traj_data['trajectory'][:, i, 3:]\n",
    "    animation.add_trace(\n",
    "        torch.as_tensor(pcd),\n",
    "        torch.as_tensor([pcd]),\n",
    "        torch.as_tensor(\n",
    "            [flow]\n",
    "        ),\n",
    "        \"red\",\n",
    "    )\n",
    "    temp = animation.add_trace_gif(\n",
    "        torch.as_tensor(pcd),\n",
    "        torch.as_tensor([pcd]),\n",
    "        torch.as_tensor(\n",
    "            [flow]\n",
    "        ),\n",
    "        \"red\",\n",
    "    )\n",
    "    animation.append_gif_frame(temp)\n",
    "\n",
    "animation.animate()"
   ]
  },
  {
   "cell_type": "code",
   "execution_count": null,
   "metadata": {},
   "outputs": [],
   "source": [
    "import gif\n",
    "gif.save(animation.gif_frames,f'./{id}.gif', duration=100)\n",
    "# animation.save_gif()"
   ]
  },
  {
   "cell_type": "code",
   "execution_count": null,
   "metadata": {},
   "outputs": [],
   "source": [
    "traj_data = traj_dataset[20]\n",
    "v3p.flow_fig(traj_data['pos'], traj_data['trajectory'][:, 0, 3:])"
   ]
  }
 ],
 "metadata": {
  "kernelspec": {
   "display_name": "openany",
   "language": "python",
   "name": "python3"
  },
  "language_info": {
   "codemirror_mode": {
    "name": "ipython",
    "version": 3
   },
   "file_extension": ".py",
   "mimetype": "text/x-python",
   "name": "python",
   "nbconvert_exporter": "python",
   "pygments_lexer": "ipython3",
   "version": "3.9.17"
  }
 },
 "nbformat": 4,
 "nbformat_minor": 2
}
