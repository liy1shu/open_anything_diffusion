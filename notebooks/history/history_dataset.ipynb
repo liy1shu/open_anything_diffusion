{
 "cells": [
  {
   "cell_type": "code",
   "execution_count": null,
   "metadata": {},
   "outputs": [],
   "source": [
    "from open_anything_diffusion.datasets.flow_history import FlowHistoryDataModule\n",
    "from open_anything_diffusion.datasets.flow_trajectory import FlowTrajectoryDataModule"
   ]
  },
  {
   "cell_type": "code",
   "execution_count": null,
   "metadata": {},
   "outputs": [],
   "source": [
    "toy_dataset={\n",
    "    \"id\": \"door-full-new\",\n",
    "    \"train-train\": [\n",
    "        \"8877\",\n",
    "        \"8893\",\n",
    "        \"8897\",\n",
    "        \"8903\",\n",
    "        \"8919\",\n",
    "        \"8930\",\n",
    "        \"8961\",\n",
    "        \"8997\",\n",
    "        \"9016\",\n",
    "        \"9032\",\n",
    "        \"9035\",\n",
    "        \"9041\",\n",
    "        \"9065\",\n",
    "        \"9070\",\n",
    "        \"9107\",\n",
    "        \"9117\",\n",
    "        \"9127\",\n",
    "        \"9128\",\n",
    "        \"9148\",\n",
    "        \"9164\",\n",
    "        \"9168\",\n",
    "        \"9277\",\n",
    "        \"9280\",\n",
    "        \"9281\",\n",
    "        \"9288\",\n",
    "        \"9386\",\n",
    "        \"9388\",\n",
    "        \"9410\",\n",
    "    ],\n",
    "    \"train-test\": [\"8867\", \"8983\", \"8994\", \"9003\", \"9263\", \"9393\"],\n",
    "    \"test\": [\"8867\", \"8983\", \"8994\", \"9003\", \"9263\", \"9393\"],\n",
    "}"
   ]
  },
  {
   "cell_type": "code",
   "execution_count": null,
   "metadata": {},
   "outputs": [],
   "source": [
    "# Trajectory module\n",
    "trajectory_module = FlowTrajectoryDataModule(\n",
    "    root=\"/home/yishu/datasets/partnet-mobility\",\n",
    "    batch_size=1,\n",
    "    num_workers=30,\n",
    "    n_proc=2,\n",
    "    seed=42,\n",
    "    trajectory_len=1,  # Only used when training trajectory model\n",
    "    toy_dataset=toy_dataset,\n",
    ")"
   ]
  },
  {
   "cell_type": "code",
   "execution_count": null,
   "metadata": {},
   "outputs": [],
   "source": [
    "datamodule = FlowHistoryDataModule(\n",
    "    root=\"/home/yishu/datasets/partnet-mobility\",\n",
    "    batch_size=1,\n",
    "    num_workers=30,\n",
    "    n_proc=2,\n",
    "    trajectory_datasets=trajectory_module,\n",
    "    \n",
    "    seed=42,\n",
    "    trajectory_len=1,  # Only used when inference trajectory model\n",
    "    toy_dataset=toy_dataset,\n",
    ")"
   ]
  },
  {
   "cell_type": "code",
   "execution_count": null,
   "metadata": {},
   "outputs": [],
   "source": [
    "dataloaders = [\n",
    "    (datamodule.train_val_dataloader(), \"train\"),\n",
    "    (datamodule.val_dataloader(), \"val\"),\n",
    "    (datamodule.unseen_dataloader(), \"test\"),\n",
    "]"
   ]
  },
  {
   "cell_type": "code",
   "execution_count": null,
   "metadata": {},
   "outputs": [],
   "source": [
    "import tqdm\n",
    "for loader, name in dataloaders:\n",
    "    for batch in tqdm.tqdm(loader):\n",
    "        break\n",
    "    break"
   ]
  },
  {
   "cell_type": "code",
   "execution_count": null,
   "metadata": {},
   "outputs": [],
   "source": [
    "batch"
   ]
  },
  {
   "cell_type": "code",
   "execution_count": null,
   "metadata": {},
   "outputs": [],
   "source": [
    "batch.trial_points"
   ]
  },
  {
   "cell_type": "code",
   "execution_count": null,
   "metadata": {},
   "outputs": [],
   "source": [
    "batch.trial_directions"
   ]
  },
  {
   "cell_type": "code",
   "execution_count": null,
   "metadata": {},
   "outputs": [],
   "source": [
    "batch.trial_results"
   ]
  }
 ],
 "metadata": {
  "kernelspec": {
   "display_name": "openany",
   "language": "python",
   "name": "python3"
  },
  "language_info": {
   "codemirror_mode": {
    "name": "ipython",
    "version": 3
   },
   "file_extension": ".py",
   "mimetype": "text/x-python",
   "name": "python",
   "nbconvert_exporter": "python",
   "pygments_lexer": "ipython3",
   "version": "3.9.17"
  }
 },
 "nbformat": 4,
 "nbformat_minor": 2
}
