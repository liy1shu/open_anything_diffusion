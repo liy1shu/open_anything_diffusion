{
 "cells": [
  {
   "cell_type": "markdown",
   "metadata": {},
   "source": [
    "## How does bad history influence the distribution"
   ]
  },
  {
   "cell_type": "code",
   "execution_count": null,
   "metadata": {},
   "outputs": [],
   "source": [
    "from hydra import compose, initialize\n",
    "from omegaconf import OmegaConf\n",
    "initialize(config_path=\"../../configs\", version_base=\"1.3\")\n",
    "cfg = compose(config_name=\"eval_sim\")"
   ]
  },
  {
   "cell_type": "code",
   "execution_count": null,
   "metadata": {},
   "outputs": [],
   "source": [
    "from open_anything_diffusion.models.modules.dit_models import DiT\n",
    "from open_anything_diffusion.models.modules.history_encoder import HistoryEncoder\n",
    "from open_anything_diffusion.models.flow_diffuser_hisdit import (\n",
    "    FlowTrajectoryDiffuserSimulationModule_HisDiT,\n",
    ")\n",
    "network = {\n",
    "    \"DiT\": DiT(\n",
    "        in_channels=3 + 3 + 128,\n",
    "        depth=5,\n",
    "        hidden_size=128,\n",
    "        num_heads=4,\n",
    "        learn_sigma=True,\n",
    "    ).cuda(),\n",
    "    \"History\": HistoryEncoder(\n",
    "        history_dim=128, history_len=1, batch_norm=False\n",
    "    ).cuda(),\n",
    "}\n",
    "\n",
    "# ckpt_file = \"/home/yishu/open_anything_diffusion/logs/train_trajectory_diffuser_hisdit/2024-05-01/10-18-38/checkpoints/epoch=529-step=293090-val_loss=0.00-weights-only.ckpt\"\n",
    "ckpt_file = \"/home/yishu/open_anything_diffusion/logs/train_trajectory_diffuser_hisdit/2024-05-10/12-09-08/checkpoints/epoch=439-step=243320-val_loss=0.00-weights-only.ckpt\"\n",
    "history_model = FlowTrajectoryDiffuserSimulationModule_HisDiT(\n",
    "    network, inference_cfg=cfg.inference, model_cfg=cfg.model\n",
    ").cuda()\n",
    "history_model.load_from_ckpt(ckpt_file)\n",
    "history_model.eval()"
   ]
  },
  {
   "cell_type": "code",
   "execution_count": null,
   "metadata": {},
   "outputs": [],
   "source": [
    "obj_id = \"9065\"\n",
    "import os\n",
    "from rpad.partnet_mobility_utils.data import PMObject\n",
    "pm_dir = os.path.expanduser(\"~/datasets/partnet-mobility/convex\")\n",
    "# env = PMSuctionSim(obj_id, pm_dir, gui=gui)\n",
    "raw_data = PMObject(os.path.join(pm_dir, obj_id))"
   ]
  },
  {
   "cell_type": "code",
   "execution_count": null,
   "metadata": {},
   "outputs": [],
   "source": [
    "from open_anything_diffusion.simulations.suction import GTFlowModel, PMSuctionSim\n",
    "env = PMSuctionSim(obj_id, pm_dir, gui=False)\n",
    "gt_model = GTFlowModel(raw_data, env)\n",
    "\n",
    "env.reset()\n",
    "\n",
    "available_joints = raw_data.semantics.by_type(\n",
    "    \"hinge\"\n",
    ") + raw_data.semantics.by_type(\"slider\")\n",
    "print(available_joints)\n",
    "\n",
    "target_link = available_joints[0].name\n",
    "import pybullet as p\n",
    "info = p.getJointInfo(\n",
    "    env.render_env.obj_id,\n",
    "    env.render_env.link_name_to_index[target_link],\n",
    "    env.render_env.client_id,\n",
    ")\n",
    "init_angle, target_angle = info[8], info[9]\n",
    "print(init_angle, target_angle)"
   ]
  },
  {
   "cell_type": "markdown",
   "metadata": {},
   "source": [
    "### Set state"
   ]
  },
  {
   "cell_type": "code",
   "execution_count": null,
   "metadata": {},
   "outputs": [],
   "source": [
    "import numpy as np\n",
    "\n",
    "# Fully closed\n",
    "env.set_joint_state(target_link, init_angle + np.linspace(0, 1, 20)[0] * (target_angle - init_angle))\n",
    "# # Open\n",
    "# env.set_joint_state(target_link, init_angle + np.linspace(0, 1, 20)[10] * (target_angle - init_angle))\n",
    "\n",
    "pc_obs = env.render(filter_nonobj_pts=True, n_pts=1200)\n",
    "rgb, depth, seg, P_cam, P_world, pc_seg, segmap = pc_obs"
   ]
  },
  {
   "cell_type": "markdown",
   "metadata": {},
   "source": [
    "#### 1. No history"
   ]
  },
  {
   "cell_type": "code",
   "execution_count": null,
   "metadata": {},
   "outputs": [],
   "source": [
    "import torch\n",
    "from open_anything_diffusion.metrics.trajectory import flow_metrics\n",
    "import tqdm\n",
    "import copy\n",
    "trial_cnts = 100\n",
    "cos_distribution = []\n",
    "metrics = []\n",
    "predictions = {}\n",
    "\n",
    "gt_flow = gt_model(pc_obs)\n",
    "nonzero_gt_flowixs = torch.where(gt_flow.norm(dim=-1) != 0.0)\n",
    "gt_flow_nz = gt_flow[nonzero_gt_flowixs]\n",
    "\n",
    "for i in tqdm.tqdm(range(trial_cnts)):\n",
    "    with torch.no_grad():\n",
    "        pred_flow = history_model(copy.deepcopy(pc_obs))[:, 0, :]\n",
    "\n",
    "    pred_flow_nz = pred_flow[nonzero_gt_flowixs]\n",
    "\n",
    "    cos_dist = torch.cosine_similarity(pred_flow_nz, gt_flow_nz, dim=-1).mean()\n",
    "    cos_distribution.append(cos_dist)\n",
    "    # predictions[cos_dist] = pred_flow\n",
    "\n",
    "    rmse, cos_dist, mag_error = flow_metrics(pred_flow_nz, gt_flow_nz)\n",
    "    metrics.append(rmse)\n",
    "    predictions[rmse] = pred_flow\n"
   ]
  },
  {
   "cell_type": "code",
   "execution_count": null,
   "metadata": {},
   "outputs": [],
   "source": [
    "import matplotlib.pyplot as plt\n",
    "plt.scatter([0] * len(metrics), metrics)\n",
    "plt.ylabel(\"RMSE\")"
   ]
  },
  {
   "cell_type": "code",
   "execution_count": null,
   "metadata": {},
   "outputs": [],
   "source": [
    "plt.scatter([0] * len(cos_distribution), cos_distribution)\n",
    "plt.ylabel(\"Cosine\")"
   ]
  },
  {
   "cell_type": "code",
   "execution_count": null,
   "metadata": {},
   "outputs": [],
   "source": [
    "no_history_ratio = sum([1 if metric.item() < 0.5 else 0 for metric in metrics])/100\n",
    "no_history_ratio_cosine = sum([1 if cosine.item() > 0.5 else 0 for cosine in cos_distribution])/100"
   ]
  },
  {
   "cell_type": "markdown",
   "metadata": {},
   "source": [
    "#### 2. With history"
   ]
  },
  {
   "cell_type": "code",
   "execution_count": null,
   "metadata": {},
   "outputs": [],
   "source": [
    "trial_cnts = 20\n",
    "with_history_metrics = {}\n",
    "with_history_cosines = {}\n",
    "\n",
    "for (history_metric, history_flow), history_cos in tqdm.tqdm(zip(predictions.items(), cos_distribution)):\n",
    "    with_history_metrics[history_metric] = []\n",
    "    with_history_cosines[history_cos] = []\n",
    "    for i in range(trial_cnts):\n",
    "        with torch.no_grad():\n",
    "            pred_flow = history_model(copy.deepcopy(pc_obs), copy.deepcopy(pc_obs[4]), history_flow.cpu().numpy())[:, 0, :]\n",
    "\n",
    "        pred_flow_nz = pred_flow[nonzero_gt_flowixs]\n",
    "\n",
    "        cos_dist = torch.cosine_similarity(pred_flow_nz, gt_flow_nz, dim=-1).mean()\n",
    "        with_history_cosines[history_cos].append(cos_dist)\n",
    "\n",
    "        rmse, cos_dist, mag_error = flow_metrics(pred_flow_nz, gt_flow_nz)\n",
    "        with_history_metrics[history_metric].append(rmse)\n"
   ]
  },
  {
   "cell_type": "markdown",
   "metadata": {},
   "source": [
    "RMSE"
   ]
  },
  {
   "cell_type": "code",
   "execution_count": null,
   "metadata": {},
   "outputs": [],
   "source": [
    "good_history_ratio = 0\n",
    "good_history_cnt = 0\n",
    "bad_history_ratio = 0\n",
    "bad_history_cnt = 0\n",
    "for history_metric in with_history_metrics.keys():\n",
    "    if history_metric < 0.5:\n",
    "        good_history_cnt += 20 \n",
    "        good_history_ratio += sum(with_history_metrics[history_metric])\n",
    "    else:\n",
    "        bad_history_cnt += 20\n",
    "        bad_history_ratio += sum(with_history_metrics[history_metric])\n",
    "\n",
    "print(\"Mean(rmse) with good history: \", good_history_ratio / good_history_cnt)\n",
    "print(\"Mean(rmse) with bad history: \", bad_history_ratio / bad_history_cnt)"
   ]
  },
  {
   "cell_type": "code",
   "execution_count": null,
   "metadata": {},
   "outputs": [],
   "source": [
    "import matplotlib.pyplot as plt\n",
    "\n",
    "xs = []\n",
    "ys = []\n",
    "ratios = []\n",
    "for history_cos in with_history_metrics.keys():\n",
    "    xs += [history_cos.item()] * 20\n",
    "    ys += with_history_metrics[history_cos]\n",
    "    ratios.append(sum([1 if cosine.item() < 0.5 else 0 for cosine in with_history_metrics[history_cos]])/20)\n",
    "plt.scatter(xs, ys)\n",
    "plt.xlabel('History rmse')\n",
    "plt.ylabel('This step rmse')"
   ]
  },
  {
   "cell_type": "code",
   "execution_count": null,
   "metadata": {},
   "outputs": [],
   "source": [
    "plt.scatter(list(with_history_metrics.keys()), ratios)\n",
    "plt.hlines(no_history_ratio, min(list(with_history_metrics.keys())), max(list(with_history_metrics.keys())))\n",
    "plt.xlabel('History rmse')\n",
    "plt.ylabel('This step rmse < 0.5 ratio')"
   ]
  },
  {
   "cell_type": "markdown",
   "metadata": {},
   "source": [
    "Cosine"
   ]
  },
  {
   "cell_type": "code",
   "execution_count": null,
   "metadata": {},
   "outputs": [],
   "source": [
    "good_history_ratio = 0\n",
    "good_history_cnt = 0\n",
    "bad_history_ratio = 0\n",
    "bad_history_cnt = 0\n",
    "for history_cos in with_history_cosines.keys():\n",
    "    if history_cos > 0.:\n",
    "        good_history_cnt += 20 \n",
    "        good_history_ratio += sum(with_history_cosines[history_cos])\n",
    "    else:\n",
    "        bad_history_cnt += 20\n",
    "        bad_history_ratio += sum(with_history_cosines[history_cos])\n",
    "\n",
    "print(\"Mean(cosine) with good history: \", good_history_ratio / good_history_cnt)\n",
    "print(\"Mean(cosine) with bad history: \", bad_history_ratio / bad_history_cnt)\n",
    "    "
   ]
  },
  {
   "cell_type": "code",
   "execution_count": null,
   "metadata": {},
   "outputs": [],
   "source": [
    "import matplotlib.pyplot as plt\n",
    "\n",
    "xs = []\n",
    "ys = []\n",
    "ratios = []\n",
    "for history_cos in with_history_cosines.keys():\n",
    "    xs += [history_cos.item()] * 20\n",
    "    ys += with_history_cosines[history_cos]\n",
    "    ratios.append(sum([1 if cosine.item() > 0.5 else 0 for cosine in with_history_cosines[history_cos]])/20)\n",
    "plt.scatter(xs, ys)\n",
    "plt.xlabel('History cosine')\n",
    "plt.ylabel('This step cosine')"
   ]
  },
  {
   "cell_type": "code",
   "execution_count": null,
   "metadata": {},
   "outputs": [],
   "source": [
    "plt.scatter(list(with_history_cosines.keys()), ratios)\n",
    "plt.hlines(no_history_ratio_cosine, min(list(with_history_cosines.keys())), max(list(with_history_cosines.keys())))\n",
    "plt.xlabel('History cosine')\n",
    "plt.ylabel('This step cosine > 0.5 ratio')"
   ]
  },
  {
   "cell_type": "markdown",
   "metadata": {},
   "source": [
    "### View the best prediction"
   ]
  },
  {
   "cell_type": "code",
   "execution_count": null,
   "metadata": {},
   "outputs": [],
   "source": [
    "predictions[min(list(with_history_metrics.keys()))].shape"
   ]
  },
  {
   "cell_type": "code",
   "execution_count": null,
   "metadata": {},
   "outputs": [],
   "source": [
    "import torch\n",
    "import numpy as np\n",
    "from flowbot3d.grasping.agents.flowbot3d import FlowNetAnimation\n",
    "animation = FlowNetAnimation()\n",
    "animation.add_trace(\n",
    "    torch.as_tensor(P_world),\n",
    "    # torch.as_tensor([pcd[mask]]),\n",
    "    # torch.as_tensor([flow[mask]]),\n",
    "    torch.as_tensor([P_world]),\n",
    "    torch.as_tensor([predictions[min(list(with_history_metrics.keys()))].cpu().numpy()]),\n",
    "    \"red\",\n",
    ")\n",
    "fig = animation.animate()\n",
    "fig.show()"
   ]
  }
 ],
 "metadata": {
  "kernelspec": {
   "display_name": "openany",
   "language": "python",
   "name": "python3"
  },
  "language_info": {
   "codemirror_mode": {
    "name": "ipython",
    "version": 3
   },
   "file_extension": ".py",
   "mimetype": "text/x-python",
   "name": "python",
   "nbconvert_exporter": "python",
   "pygments_lexer": "ipython3",
   "version": "3.9.17"
  }
 },
 "nbformat": 4,
 "nbformat_minor": 2
}
