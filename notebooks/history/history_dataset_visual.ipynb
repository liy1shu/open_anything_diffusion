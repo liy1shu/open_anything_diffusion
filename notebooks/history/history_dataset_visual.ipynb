{
 "cells": [
  {
   "cell_type": "code",
   "execution_count": null,
   "metadata": {},
   "outputs": [],
   "source": [
    "toy_dataset = {\n",
    "    \"id\": \"door-full-new\",\n",
    "    \"train-train\": [\n",
    "        \"8877\",\n",
    "        \"8893\",\n",
    "        \"8897\",\n",
    "        \"8903\",\n",
    "        \"8919\",\n",
    "        \"8930\",\n",
    "        \"8961\",\n",
    "        \"8997\",\n",
    "        \"9016\",\n",
    "        \"9032\",\n",
    "        \"9035\",\n",
    "        \"9041\",\n",
    "        \"9065\",\n",
    "        \"9070\",\n",
    "        \"9107\",\n",
    "        \"9117\",\n",
    "        \"9127\",\n",
    "        \"9128\",\n",
    "        \"9148\",\n",
    "        \"9164\",\n",
    "        \"9168\",\n",
    "        \"9277\",\n",
    "        \"9280\",\n",
    "        \"9281\",\n",
    "        \"9288\",\n",
    "        \"9386\",\n",
    "        \"9388\",\n",
    "        \"9410\",\n",
    "    ],\n",
    "    \"train-test\": [\"8867\", \"8983\", \"8994\", \"9003\", \"9263\", \"9393\"],\n",
    "    \"test\": [\"8867\", \"8983\", \"8994\", \"9003\", \"9263\", \"9393\"],\n",
    "}\n",
    "# special_req = \"half-half\"  # \"fully-closed\"\n",
    "special_req = None"
   ]
  },
  {
   "cell_type": "code",
   "execution_count": null,
   "metadata": {},
   "outputs": [],
   "source": [
    "from open_anything_diffusion.datasets.flow_trajectory import FlowTrajectoryDataModule\n",
    "\n",
    "datamodule = FlowTrajectoryDataModule(\n",
    "    root='/home/yishu/datasets/partnet-mobility/',\n",
    "    batch_size=1,\n",
    "    num_workers=30,\n",
    "    n_proc=2,\n",
    "    seed=42,\n",
    "    history=True,\n",
    "    trajectory_len=1,  # Only used when training trajectory model\n",
    "    special_req=special_req,  # special_req=\"fully-closed\"\n",
    "    # # TODO: only for toy training!!!!!\n",
    "    toy_dataset=toy_dataset,\n",
    ")\n",
    "train_loader = datamodule.train_dataloader()"
   ]
  },
  {
   "cell_type": "code",
   "execution_count": null,
   "metadata": {},
   "outputs": [],
   "source": [
    "for data in train_loader:\n",
    "    break"
   ]
  },
  {
   "cell_type": "code",
   "execution_count": null,
   "metadata": {},
   "outputs": [],
   "source": [
    "data_list = data.to_data_list()\n",
    "datapoint = data_list[0]\n",
    "print(datapoint)"
   ]
  },
  {
   "cell_type": "code",
   "execution_count": null,
   "metadata": {},
   "outputs": [],
   "source": [
    "datapoint.delta.shape"
   ]
  },
  {
   "cell_type": "code",
   "execution_count": null,
   "metadata": {},
   "outputs": [],
   "source": [
    "datapoint.flow_history.shape"
   ]
  },
  {
   "cell_type": "code",
   "execution_count": null,
   "metadata": {},
   "outputs": [],
   "source": [
    "torch.cosine"
   ]
  },
  {
   "cell_type": "code",
   "execution_count": null,
   "metadata": {},
   "outputs": [],
   "source": [
    "datapoint.delta"
   ]
  },
  {
   "cell_type": "markdown",
   "metadata": {},
   "source": [
    "## Current step"
   ]
  },
  {
   "cell_type": "code",
   "execution_count": null,
   "metadata": {},
   "outputs": [],
   "source": [
    "import torch\n",
    "import numpy as np\n",
    "from flowbot3d.grasping.agents.flowbot3d import FlowNetAnimation\n",
    "animation = FlowNetAnimation()\n",
    "\n",
    "animation.add_trace(\n",
    "    datapoint.history,\n",
    "    # torch.as_tensor([pcd[mask]]),\n",
    "    # torch.as_tensor([flow[mask]]),\n",
    "    torch.as_tensor([datapoint.history.tolist()]),\n",
    "    torch.as_tensor([datapoint.flow_history.tolist()]),\n",
    "    \"red\",\n",
    ")\n",
    "\n",
    "animation.add_trace(\n",
    "    datapoint.pos,\n",
    "    # torch.as_tensor([pcd[mask]]),\n",
    "    # torch.as_tensor([flow[mask]]),\n",
    "    torch.as_tensor([datapoint.pos.tolist()]),\n",
    "    torch.as_tensor([datapoint.delta[:, 0, :].tolist()]),\n",
    "    \"red\",\n",
    ")\n",
    "fig = animation.animate()\n",
    "fig.show()"
   ]
  },
  {
   "cell_type": "markdown",
   "metadata": {},
   "source": [
    "## History step"
   ]
  },
  {
   "cell_type": "code",
   "execution_count": null,
   "metadata": {},
   "outputs": [],
   "source": [
    "import torch\n",
    "import numpy as np\n",
    "from flowbot3d.grasping.agents.flowbot3d import FlowNetAnimation\n",
    "animation = FlowNetAnimation()\n",
    "animation.add_trace(\n",
    "    datapoint.history,\n",
    "    # torch.as_tensor([pcd[mask]]),\n",
    "    # torch.as_tensor([flow[mask]]),\n",
    "    torch.as_tensor([datapoint.history.tolist()]),\n",
    "    torch.as_tensor([datapoint.flow_history.tolist()]),\n",
    "    \"red\",\n",
    ")\n",
    "fig = animation.animate()\n",
    "fig.show()"
   ]
  },
  {
   "cell_type": "markdown",
   "metadata": {},
   "source": [
    "### Inference"
   ]
  },
  {
   "cell_type": "code",
   "execution_count": null,
   "metadata": {},
   "outputs": [],
   "source": [
    "class InferenceConfig:\n",
    "    def __init__(self):\n",
    "        self.batch_size = 1\n",
    "        self.trajectory_len = 1\n",
    "\n",
    "inference_config = InferenceConfig()\n",
    "\n",
    "class ModelConfig:\n",
    "    def __init__(self):\n",
    "        self.num_train_timesteps = 100\n",
    "\n",
    "model_config = ModelConfig()"
   ]
  },
  {
   "cell_type": "code",
   "execution_count": null,
   "metadata": {},
   "outputs": [],
   "source": [
    "from open_anything_diffusion.models.modules.dit_models import DGDiT, DiT, PN2DiT\n",
    "from open_anything_diffusion.models.modules.history_translator import HistoryTranslator\n",
    "from open_anything_diffusion.models.flow_diffuser_hisdit import (\n",
    "    FlowTrajectoryDiffuserInferenceModule_HisDiT,\n",
    ")\n",
    "network = {\n",
    "    'DiT': DiT(\n",
    "            in_channels=3 + 3 + 128,\n",
    "            depth=5,\n",
    "            hidden_size=128,\n",
    "            num_heads=4,\n",
    "            learn_sigma=True,\n",
    "        ).cuda(),\n",
    "    'History': HistoryTranslator(history_dim=128, history_len=1).cuda()\n",
    "}\n",
    "\n",
    "model = FlowTrajectoryDiffuserInferenceModule_HisDiT(\n",
    "    network, inference_cfg=inference_config, model_cfg=model_config\n",
    ")\n",
    "\n",
    "ckpt_path = '/home/yishu/open_anything_diffusion/logs/train_trajectory_diffuser_hisdit/2024-04-30/07-04-27/checkpoints/epoch=39-step=3520-val_loss=0.00-weights-only.ckpt'\n",
    "model.load_from_ckpt(ckpt_path)\n",
    "model.eval()"
   ]
  },
  {
   "cell_type": "code",
   "execution_count": null,
   "metadata": {},
   "outputs": [],
   "source": [
    "pred_flow = model.cuda().predict_step(data.cuda(), 0)[:, 0, :]"
   ]
  },
  {
   "cell_type": "code",
   "execution_count": null,
   "metadata": {},
   "outputs": [],
   "source": [
    "data"
   ]
  },
  {
   "cell_type": "code",
   "execution_count": null,
   "metadata": {},
   "outputs": [],
   "source": [
    "pred_flow.shape"
   ]
  },
  {
   "cell_type": "code",
   "execution_count": null,
   "metadata": {},
   "outputs": [],
   "source": [
    "data.delta[:, 0, :]"
   ]
  },
  {
   "cell_type": "code",
   "execution_count": null,
   "metadata": {},
   "outputs": [],
   "source": [
    "data.flow_history"
   ]
  },
  {
   "cell_type": "code",
   "execution_count": null,
   "metadata": {},
   "outputs": [],
   "source": [
    "pred_flow"
   ]
  },
  {
   "cell_type": "code",
   "execution_count": null,
   "metadata": {},
   "outputs": [],
   "source": [
    "import torch\n",
    "import numpy as np\n",
    "from flowbot3d.grasping.agents.flowbot3d import FlowNetAnimation\n",
    "animation = FlowNetAnimation()\n",
    "animation.add_trace(\n",
    "    data.pos.cpu(),\n",
    "    # torch.as_tensor([pcd[mask]]),\n",
    "    # torch.as_tensor([flow[mask]]),\n",
    "    torch.as_tensor([data.pos.cpu().tolist()]),\n",
    "    torch.as_tensor([pred_flow.cpu().tolist()]),\n",
    "    \"red\",\n",
    ")\n",
    "fig = animation.animate()\n",
    "fig.show()"
   ]
  }
 ],
 "metadata": {
  "kernelspec": {
   "display_name": "openany",
   "language": "python",
   "name": "python3"
  },
  "language_info": {
   "codemirror_mode": {
    "name": "ipython",
    "version": 3
   },
   "file_extension": ".py",
   "mimetype": "text/x-python",
   "name": "python",
   "nbconvert_exporter": "python",
   "pygments_lexer": "ipython3",
   "version": "3.9.17"
  }
 },
 "nbformat": 4,
 "nbformat_minor": 2
}
