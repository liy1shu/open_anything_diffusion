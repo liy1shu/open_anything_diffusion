{
 "cells": [
  {
   "cell_type": "markdown",
   "metadata": {},
   "source": [
    "## Check if the training process is exactly the same"
   ]
  },
  {
   "cell_type": "code",
   "execution_count": null,
   "metadata": {},
   "outputs": [],
   "source": [
    "import torch\n",
    "import lightning as L\n",
    "import rpad.pyg.nets.pointnet2 as pnp\n",
    "\n",
    "from hydra import initialize, initialize_config_module, initialize_config_dir, compose\n",
    "from python_ml_project_template.datasets.flow_trajectory import FlowTrajectoryDataModule\n",
    "from python_ml_project_template.datasets.flowbot import FlowBotDataModule\n",
    "\n",
    "torch.set_printoptions(precision=15)\n",
    "import os\n",
    "os.environ[\"CUDA_VISIBLE_DEVICES\"] = \"1\""
   ]
  },
  {
   "cell_type": "markdown",
   "metadata": {},
   "source": [
    "### 1: Original flowbot"
   ]
  },
  {
   "cell_type": "code",
   "execution_count": null,
   "metadata": {},
   "outputs": [],
   "source": [
    "from python_ml_project_template.models.flow_predictor import FlowPredictorTrainingModule\n",
    "\n",
    "def run_flowbot():\n",
    "    with initialize(version_base='1.3', config_path=\"../configs/\"):\n",
    "        cfg = compose(config_name=\"train_flowbot\")\n",
    "    torch.backends.cudnn.deterministic = True\n",
    "    torch.backends.cudnn.benchmark = False\n",
    "    torch.set_float32_matmul_precision(\"medium\")\n",
    "\n",
    "    # Run 2 epoch of original flowbot model\n",
    "    L.seed_everything(cfg.seed)\n",
    "    flowbot_datamodule = FlowBotDataModule(\n",
    "        root=cfg.dataset.data_dir,\n",
    "        batch_size=cfg.training.batch_size,\n",
    "        num_workers=cfg.resources.num_workers,\n",
    "        n_proc=cfg.training.n_proc,  # Add n_proc\n",
    "    )\n",
    "    flowbot_train_loader = flowbot_datamodule.train_dataloader()\n",
    "    flowbot_val_loader = flowbot_datamodule.val_dataloader()\n",
    "    flowbot_unseen_loader = flowbot_datamodule.unseen_dataloader()\n",
    "\n",
    "    # TODO: Training\n",
    "    mask_channel = 1 if cfg.training.mask_input_channel else 0\n",
    "    flowbot_network = pnp.PN2Dense(\n",
    "        in_channels=mask_channel, out_channels=3, p=pnp.PN2DenseParams()\n",
    "    )\n",
    "\n",
    "    flowbot_model = FlowPredictorTrainingModule(\n",
    "        flowbot_network, training_cfg=cfg.training\n",
    "    )\n",
    "    flowbot_trainer = L.Trainer(\n",
    "        accelerator=\"gpu\",\n",
    "        devices=cfg.resources.gpus,\n",
    "        precision=\"16-mixed\",\n",
    "        max_steps=10\n",
    "    )\n",
    "\n",
    "    flowbot_trainer.fit(\n",
    "        flowbot_model,\n",
    "        flowbot_train_loader,\n",
    "        [flowbot_train_loader, flowbot_val_loader, flowbot_unseen_loader],\n",
    "    )\n",
    "    return flowbot_model\n"
   ]
  },
  {
   "cell_type": "code",
   "execution_count": null,
   "metadata": {},
   "outputs": [],
   "source": [
    "flowbot_model = run_flowbot()"
   ]
  },
  {
   "cell_type": "markdown",
   "metadata": {},
   "source": [
    "### 2: Trajectory=1"
   ]
  },
  {
   "cell_type": "code",
   "execution_count": null,
   "metadata": {},
   "outputs": [],
   "source": [
    "from python_ml_project_template.models.flow_trajectory_predictor import FlowTrajectoryTrainingModule\n",
    "\n",
    "def run_single_trajectory():\n",
    "    with initialize(version_base='1.3', config_path=\"../configs/\"):\n",
    "        cfg = compose(config_name=\"train_trajectory\")\n",
    "    torch.backends.cudnn.deterministic = True\n",
    "    torch.backends.cudnn.benchmark = False\n",
    "    torch.set_float32_matmul_precision(\"medium\")\n",
    "    L.seed_everything(cfg.seed)\n",
    "    # TODO: Dataset\n",
    "    traj_datamodule = FlowTrajectoryDataModule(\n",
    "        root=cfg.dataset.data_dir,\n",
    "        batch_size=cfg.training.batch_size,\n",
    "        num_workers=cfg.resources.num_workers,\n",
    "        trajectory_len=cfg.training.trajectory_len,\n",
    "        n_proc=cfg.training.n_proc,  # Add n_proc\n",
    "        seed=cfg.seed,\n",
    "    )\n",
    "    traj_train_loader = traj_datamodule.train_dataloader()\n",
    "    traj_val_loader = traj_datamodule.val_dataloader()\n",
    "    traj_unseen_loader = traj_datamodule.unseen_dataloader()\n",
    "\n",
    "    mask_channel = 1 if cfg.training.mask_input_channel else 0\n",
    "    traj_network = pnp.PN2Dense(\n",
    "        in_channels=mask_channel,\n",
    "        out_channels=3 * 1,\n",
    "        p=pnp.PN2DenseParams(),\n",
    "    )\n",
    "\n",
    "    traj_trainer = L.Trainer(\n",
    "        accelerator=\"gpu\",\n",
    "        devices=cfg.resources.gpus,\n",
    "        precision=\"16-mixed\",\n",
    "        max_steps=10,\n",
    "        callbacks=[],\n",
    "    )\n",
    "    traj_model = FlowTrajectoryTrainingModule(traj_network, training_cfg=cfg.training)\n",
    "    traj_trainer.fit(\n",
    "        traj_model,\n",
    "        traj_train_loader,\n",
    "        [traj_train_loader, traj_val_loader, traj_unseen_loader],\n",
    "    )\n",
    "    return traj_model\n"
   ]
  },
  {
   "cell_type": "code",
   "execution_count": null,
   "metadata": {},
   "outputs": [],
   "source": [
    "traj_model = run_single_trajectory()"
   ]
  },
  {
   "cell_type": "markdown",
   "metadata": {},
   "source": [
    "### The parameters"
   ]
  },
  {
   "cell_type": "code",
   "execution_count": null,
   "metadata": {},
   "outputs": [],
   "source": [
    "for p1, p2 in zip(flowbot_model.parameters(), traj_model.parameters()):\n",
    "    if p1.data.ne(p2.data).sum() > 0:\n",
    "        print(p1.data - p2.data)"
   ]
  }
 ],
 "metadata": {
  "kernelspec": {
   "display_name": "openany",
   "language": "python",
   "name": "python3"
  },
  "language_info": {
   "codemirror_mode": {
    "name": "ipython",
    "version": 3
   },
   "file_extension": ".py",
   "mimetype": "text/x-python",
   "name": "python",
   "nbconvert_exporter": "python",
   "pygments_lexer": "ipython3",
   "version": "3.9.17"
  }
 },
 "nbformat": 4,
 "nbformat_minor": 2
}
