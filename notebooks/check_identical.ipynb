{
 "cells": [
  {
   "cell_type": "markdown",
   "metadata": {},
   "source": [
    "## Check if dataset is identical"
   ]
  },
  {
   "cell_type": "code",
   "execution_count": null,
   "metadata": {},
   "outputs": [],
   "source": [
    "from flowbot3d.datasets.flow_dataset_pyg import Flowbot3DPyGDataset\n",
    "from python_ml_project_template.datasets.flow_trajectory_dataset_pyg import FlowTrajectoryPyGDataset"
   ]
  },
  {
   "cell_type": "code",
   "execution_count": null,
   "metadata": {},
   "outputs": [],
   "source": [
    "flowbot3d = Flowbot3DPyGDataset(\n",
    "    root = '/home/yishu/datasets/partnet-mobility/raw/',\n",
    "    split = \"umpnet-train-train\",\n",
    "    randomize_camera = True\n",
    ")"
   ]
  },
  {
   "cell_type": "code",
   "execution_count": null,
   "metadata": {},
   "outputs": [],
   "source": [
    "trajectory = FlowTrajectoryPyGDataset(\n",
    "    root = '/home/yishu/datasets/partnet-mobility-trajectory/raw/',\n",
    "    split = \"umpnet-train-train\",\n",
    "    randomize_camera = True,\n",
    "    trajectory_len=1,\n",
    ")"
   ]
  },
  {
   "cell_type": "code",
   "execution_count": null,
   "metadata": {},
   "outputs": [],
   "source": [
    "flowbot3d.get_data('100031', seed=10).pos"
   ]
  },
  {
   "cell_type": "code",
   "execution_count": null,
   "metadata": {},
   "outputs": [],
   "source": [
    "print(flowbot3d.get_data('7167', seed=10).flow)\n",
    "print(trajectory.get_data('7167', seed=10).delta)"
   ]
  },
  {
   "cell_type": "markdown",
   "metadata": {},
   "source": [
    "## Check generated dataset with on-disk dataset"
   ]
  },
  {
   "cell_type": "code",
   "execution_count": null,
   "metadata": {},
   "outputs": [],
   "source": [
    "original_dataset = '/home/yishu/datasets/partnet-mobility/processed_rj_rc/'\n",
    "generated_dataset = '/home/yishu/datasets/partnet-mobility-trajectory/processed_1_rj_rc/'"
   ]
  },
  {
   "cell_type": "code",
   "execution_count": null,
   "metadata": {},
   "outputs": [],
   "source": [
    "import os\n",
    "\n",
    "objects = list(os.listdir(original_dataset))\n",
    "gen_objects = list(os.listdir(generated_dataset))\n",
    "print(objects)\n",
    "assert objects == gen_objects, \"The objects are not the same\""
   ]
  },
  {
   "cell_type": "code",
   "execution_count": null,
   "metadata": {},
   "outputs": [],
   "source": [
    "import torch\n",
    "import tqdm\n",
    "import torch_geometric.data as tgd\n",
    "for object in tqdm.tqdm(objects):\n",
    "    print(object)\n",
    "    if object[0] > '9' or object[0] < '0':\n",
    "        continue\n",
    "    original_flow = torch.load(os.path.join(original_dataset, object))[0].flow\n",
    "    generated_flow = torch.load(os.path.join(generated_dataset, object))[0].delta\n",
    "    print(original_flow, generated_flow)\n",
    "    assert torch.equal(original_flow, generated_flow.squeeze()), f\"{object} is not the same.\""
   ]
  }
 ],
 "metadata": {
  "kernelspec": {
   "display_name": "openany",
   "language": "python",
   "name": "python3"
  },
  "language_info": {
   "codemirror_mode": {
    "name": "ipython",
    "version": 3
   },
   "file_extension": ".py",
   "mimetype": "text/x-python",
   "name": "python",
   "nbconvert_exporter": "python",
   "pygments_lexer": "ipython3",
   "version": "3.9.17"
  }
 },
 "nbformat": 4,
 "nbformat_minor": 2
}
