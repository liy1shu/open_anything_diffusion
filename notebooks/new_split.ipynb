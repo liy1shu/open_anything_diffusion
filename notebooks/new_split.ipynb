{
 "cells": [
  {
   "cell_type": "code",
   "execution_count": null,
   "metadata": {},
   "outputs": [],
   "source": [
    "import json\n",
    "with open('/home/yishu/open_anything_diffusion/scripts/umpnet_data_split_new.json', 'r') as f:\n",
    "    split = json.load(f)"
   ]
  },
  {
   "cell_type": "code",
   "execution_count": null,
   "metadata": {},
   "outputs": [],
   "source": [
    "for obj_cat in split['train'].keys():\n",
    "    print(len(split['train'][obj_cat]['train']) / len(split['train'][obj_cat]['test']))"
   ]
  },
  {
   "cell_type": "code",
   "execution_count": null,
   "metadata": {},
   "outputs": [],
   "source": [
    "import numpy as np\n",
    "orig_test_set = split['test']\n",
    "for object_name in orig_test_set.keys():\n",
    "    # print(orig_test_set[object_name])\n",
    "    obj_ids = np.array(orig_test_set[object_name]['test'])\n",
    "    train_cnt = int(len(obj_ids) / (4 + 1) * 4)\n",
    "    # print(object_name, train_cnt, len(obj_ids) - train_cnt)\n",
    "    perm = np.random.permutation(len(obj_ids))\n",
    "    train_ids = perm[:train_cnt]\n",
    "    test_ids = perm[train_cnt:]\n",
    "    split['train'][object_name] = {\n",
    "        \"train\": list(obj_ids[train_ids]),\n",
    "        \"test\": list(obj_ids[test_ids]),\n",
    "    }"
   ]
  },
  {
   "cell_type": "code",
   "execution_count": null,
   "metadata": {},
   "outputs": [],
   "source": [
    "with open('/home/yishu/open_anything_diffusion/scripts/umpnet_data_split_new.json', 'w') as f:\n",
    "    json.dump(split, f)"
   ]
  },
  {
   "cell_type": "code",
   "execution_count": null,
   "metadata": {},
   "outputs": [],
   "source": [
    "train_train = []\n",
    "train_test = []\n",
    "test = []\n",
    "for obj_cat in split['train'].keys():\n",
    "    for id in split['train'][obj_cat]['train']:\n",
    "        train_train.append(f\"{id},{obj_cat}\\n\")\n",
    "    for id in split['train'][obj_cat]['test']:\n",
    "        train_test.append(f\"{id},{obj_cat}\\n\")\n",
    "        if obj_cat == 'Door':\n",
    "            test.append(f\"{id},{obj_cat}\\n\")"
   ]
  },
  {
   "cell_type": "code",
   "execution_count": null,
   "metadata": {},
   "outputs": [],
   "source": [
    "with open('/home/yishu/partnet_mobility_utils/src/rpad/partnet_mobility_utils/data_lists/umpnet/test.txt', 'w') as f:\n",
    "    f.writelines(test)"
   ]
  },
  {
   "cell_type": "code",
   "execution_count": null,
   "metadata": {},
   "outputs": [],
   "source": [
    "with open('/home/yishu/partnet_mobility_utils/src/rpad/partnet_mobility_utils/data_lists/umpnet/train_train.txt', 'w') as f:\n",
    "    f.writelines(train_train)"
   ]
  },
  {
   "cell_type": "code",
   "execution_count": null,
   "metadata": {},
   "outputs": [],
   "source": [
    "with open('/home/yishu/partnet_mobility_utils/src/rpad/partnet_mobility_utils/data_lists/umpnet/train_test.txt', 'w') as f:\n",
    "    f.writelines(train_test)"
   ]
  }
 ],
 "metadata": {
  "kernelspec": {
   "display_name": "openany",
   "language": "python",
   "name": "python3"
  },
  "language_info": {
   "codemirror_mode": {
    "name": "ipython",
    "version": 3
   },
   "file_extension": ".py",
   "mimetype": "text/x-python",
   "name": "python",
   "nbconvert_exporter": "python",
   "pygments_lexer": "ipython3",
   "version": "3.9.17"
  }
 },
 "nbformat": 4,
 "nbformat_minor": 2
}
