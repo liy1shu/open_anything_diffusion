{
 "cells": [
  {
   "cell_type": "code",
   "execution_count": null,
   "metadata": {},
   "outputs": [],
   "source": [
    "import pybullet as p\n",
    "import pybullet_data as pd\n",
    "import os\n",
    "from tqdm import tqdm\n",
    "\n",
    "ids = [\n",
    "    # \"8867\",\n",
    "    # \"8877\",\n",
    "    \"8893\",\n",
    "    \"8897\",\n",
    "    \"8903\",\n",
    "    \"8919\",\n",
    "    \"8930\",\n",
    "    \"8961\",\n",
    "    \"8997\",\n",
    "    \"9016\",\n",
    "    \"9032\",\n",
    "    \"9035\",\n",
    "    \"9041\",\n",
    "    \"9065\",\n",
    "    \"9070\",\n",
    "    \"9107\",\n",
    "    \"9117\",\n",
    "    \"9127\",\n",
    "    \"9128\",\n",
    "    \"9148\",\n",
    "    \"9164\",\n",
    "    \"9168\",\n",
    "    \"9277\",\n",
    "    \"9280\",\n",
    "    \"9281\",\n",
    "    \"9288\",\n",
    "    \"9386\",\n",
    "    \"9388\",\n",
    "    \"9410\",\n",
    "    \"8867\",\n",
    "    \"8983\",\n",
    "    \"8994\",\n",
    "    \"9003\",\n",
    "    \"9263\",\n",
    "    \"9393\",\n",
    "]\n",
    "\n",
    "for object_id in tqdm(ids):\n",
    "    obj_path = f\"/home/yishu/datasets/partnet-mobility/convex/{object_id}/textured_objs/\"\n",
    "    for file_name in os.listdir(obj_path):\n",
    "        if '.obj' not in file_name:\n",
    "            continue\n",
    "        p.connect(p.DIRECT)\n",
    "        name = f\"/home/yishu/datasets/partnet-mobility/convex/{object_id}/textured_objs/{file_name}\"\n",
    "        name_log = \"log.txt\"\n",
    "        p.vhacd(name, name, name_log)"
   ]
  },
  {
   "cell_type": "code",
   "execution_count": null,
   "metadata": {},
   "outputs": [],
   "source": [
    "import pybullet as p\n",
    "import pybullet_data as pd\n",
    "import os\n",
    "\n",
    "p.connect(p.DIRECT)\n",
    "name_in = \"/home/yishu/datasets/partnet-mobility/convex/8893/textured_objs/new-0.obj\"\n",
    "name_out = \"/home/yishu/datasets/partnet-mobility/convex/8893/textured_objs/new-0.obj\"\n",
    "name_log = \"log.txt\"\n",
    "p.vhacd(name_in, name_out, name_log)"
   ]
  }
 ],
 "metadata": {
  "kernelspec": {
   "display_name": "openany",
   "language": "python",
   "name": "python3"
  },
  "language_info": {
   "codemirror_mode": {
    "name": "ipython",
    "version": 3
   },
   "file_extension": ".py",
   "mimetype": "text/x-python",
   "name": "python",
   "nbconvert_exporter": "python",
   "pygments_lexer": "ipython3",
   "version": "3.9.17"
  }
 },
 "nbformat": 4,
 "nbformat_minor": 2
}
