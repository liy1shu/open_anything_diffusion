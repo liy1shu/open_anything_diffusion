{
 "cells": [
  {
   "cell_type": "code",
   "execution_count": null,
   "metadata": {},
   "outputs": [],
   "source": [
    "import json\n",
    "with open('/home/yishu/open_anything_diffusion/scripts/movable_links_005.json', 'r') as f:\n",
    "    orig_links = json.load(f)"
   ]
  },
  {
   "cell_type": "code",
   "execution_count": null,
   "metadata": {},
   "outputs": [],
   "source": [
    "cnt = 0\n",
    "for key in orig_links.keys():\n",
    "    cnt += len(orig_links[key]) != 0\n",
    "print(cnt)"
   ]
  },
  {
   "cell_type": "code",
   "execution_count": null,
   "metadata": {},
   "outputs": [],
   "source": [
    "new_links ={'9016': ['link_1', 'link_2'], '9164': [], '9041': ['link_0'], '9410': [], '9388': [], '9107': [], '9070': ['link_0'], '9386': [], '9168': [], '8867': [], '8893': ['link_2'], '8897': ['link_1'], '8903': ['link_2'], '8919': ['link_1', 'link_2'], '8930': ['link_4'], '8961': ['link_1', 'link_2'], '8983': [], '8997': ['link_0', 'link_1'], '9003': ['link_1'], '9065': ['link_1', 'link_2'], '9117': [], '9128': ['link_1', 'link_2'], '9280': [], '9281': [], '9288': [], '8877': ['link_1'], '9032': [], '9035': ['link_0'], '9127': [], '9148': [], '9277': [], '8994': ['link_2'], '9263': ['link_2'], '9393': ['link_1']}"
   ]
  },
  {
   "cell_type": "code",
   "execution_count": null,
   "metadata": {},
   "outputs": [],
   "source": [
    "for door_name in new_links.keys():\n",
    "    if door_name not in orig_links.keys():\n",
    "        orig_links[door_name] = []\n",
    "    orig_links[door_name] = list(set(orig_links[door_name] + new_links[door_name]))"
   ]
  },
  {
   "cell_type": "code",
   "execution_count": null,
   "metadata": {},
   "outputs": [],
   "source": [
    "import json\n",
    "with open('/home/yishu/open_anything_diffusion/scripts/movable_links_001.json', 'w') as f:\n",
    "    # json.dump(orig_links, f)\n",
    "    json.dump(new_links, f)"
   ]
  },
  {
   "cell_type": "code",
   "execution_count": null,
   "metadata": {},
   "outputs": [],
   "source": [
    "movable_links_doors = orig_links"
   ]
  },
  {
   "cell_type": "code",
   "execution_count": null,
   "metadata": {},
   "outputs": [],
   "source": [
    "# for name in sorted(movable_links_doors.keys()):\n",
    "#     # if len(movable_links_doors[name]) == 0:\n",
    "#     #     print(name)\n",
    "#     print(name, movable_links_doors[name])"
   ]
  },
  {
   "cell_type": "code",
   "execution_count": null,
   "metadata": {},
   "outputs": [],
   "source": [
    "for name in sorted(movable_links_doors.keys()):\n",
    "    # if len(movable_links_doors[name]) == 0:\n",
    "    #     print(name)\n",
    "    print(name, movable_links_doors[name], new_links[name])"
   ]
  }
 ],
 "metadata": {
  "kernelspec": {
   "display_name": "openany",
   "language": "python",
   "name": "python3"
  },
  "language_info": {
   "codemirror_mode": {
    "name": "ipython",
    "version": 3
   },
   "file_extension": ".py",
   "mimetype": "text/x-python",
   "name": "python",
   "nbconvert_exporter": "python",
   "pygments_lexer": "ipython3",
   "version": "3.9.17"
  }
 },
 "nbformat": 4,
 "nbformat_minor": 2
}
