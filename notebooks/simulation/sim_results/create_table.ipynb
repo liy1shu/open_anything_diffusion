{
 "cells": [
  {
   "cell_type": "code",
   "execution_count": null,
   "metadata": {},
   "outputs": [],
   "source": [
    "object_names = ['Switch', 'Oven', 'Bucket', 'Box', 'Toilet', 'KitchenPot', 'Microwave', 'Window', 'Kettle', 'Safe', 'Refrigerator', 'Table', 'StorageFurniture', 'Dishwasher', 'WashingMachine', 'FoldingChair', 'Phone', 'Door', 'Laptop', 'TrashCan', 'Stapler']\n",
    "column_names = ['Model', 'Policy'] + object_names"
   ]
  },
  {
   "cell_type": "code",
   "execution_count": null,
   "metadata": {},
   "outputs": [],
   "source": [
    "import pandas as pd\n",
    "import os\n",
    "import numpy as np\n",
    "# models = ['flowbot', 'dit', 'pndit', 'hisdit', 'pnhisdit', 'hisditonly', 'hisonly', 'pndit&pn++', 'dit&pn++', 'largedit&pn++', 'flowbotallopen', 'pndit&pn++allopen>005','dit&pn++allopen>01', 'hispnditFilter']\n",
    "models = ['flowbotMDrepeat5', 'flowbotROrepeat5', 'hispnditFilrepeat5', 'pnditrepeat5', 'his']\n",
    "policies = ['raw', 'sgp', 'sgp+cc', 'sgp+cc+hf', 'sgp+hf']\n",
    "# open_ratios = ['000_train', '001_train', '000_test', '001_test']\n",
    "open_ratios = ['000_test', '000_train'] \n",
    "\n",
    "max_counts = {'000_train': {}, '001_train': {}, '000_test': {}, '001_test': {}}\n",
    "\n",
    "success_rate_df = {\n",
    "    '000_train': pd.DataFrame(np.zeros((7, len(object_names) + 2)), columns=column_names),\n",
    "    '000_test': pd.DataFrame(np.zeros((7, len(object_names) + 2)), columns=column_names),\n",
    "    '001_train': pd.DataFrame(np.zeros((7, len(object_names) + 2)), columns=column_names),\n",
    "    '001_test': pd.DataFrame(np.zeros((7, len(object_names) + 2)), columns=column_names)\n",
    "}\n",
    "normalized_dist_df = {\n",
    "    '000_train': pd.DataFrame(np.zeros((7, len(object_names) + 2)), columns=column_names),\n",
    "    '001_train': pd.DataFrame(np.zeros((7, len(object_names) + 2)), columns=column_names),\n",
    "    '000_test': pd.DataFrame(np.zeros((7, len(object_names) + 2)), columns=column_names),\n",
    "    '001_test': pd.DataFrame(np.zeros((7, len(object_names) + 2)), columns=column_names),\n",
    "}\n",
    "for open_ratio_and_split in open_ratios:\n",
    "    row_id = 0\n",
    "    open_ratio, desired_split = open_ratio_and_split.split('_')[0], open_ratio_and_split.split('_')[1]\n",
    "    for policy in policies:\n",
    "        for model in models:\n",
    "            path = f'./raw_tables/{model}_split_{policy}_{open_ratio}.csv'\n",
    "            if not os.path.exists(path):\n",
    "                continue\n",
    "            result_df = pd.read_csv(path)\n",
    "\n",
    "            srates = {}\n",
    "            ndists = {}\n",
    "            counts = {}\n",
    "            for _, row in result_df.iterrows():\n",
    "                name, split, sr, nd, count = row['index'].split('_')[0], row['index'].split('_')[1], row['success_rate'], row['norm_dist'], row['count']\n",
    "                # print(name, sr, nd, count)\n",
    "                # objects = list(set([name.split('_')[0] for name in result_df[\"index\"].values]))\n",
    "                # print(objects)\n",
    "                if split != desired_split:  # Only include train / test\n",
    "                    continue\n",
    "                # name_split = '_'.join([name, split])\n",
    "                if name not in counts.keys():\n",
    "                    counts[name] = 0\n",
    "                    srates[name] = 0\n",
    "                    ndists[name] = 0\n",
    "                # print(name, count)\n",
    "                counts[name] += count\n",
    "                srates[name] += sr * count\n",
    "                ndists[name] += nd * count\n",
    "\n",
    "            for category in counts.keys():\n",
    "                if category not in max_counts[open_ratio_and_split].keys():\n",
    "                    max_counts[open_ratio_and_split][category] = 0\n",
    "                max_counts[open_ratio_and_split][category] = max(max_counts[open_ratio_and_split][category], counts[category])\n",
    "\n",
    "            success_rate_df[open_ratio_and_split].at[row_id, 'Model'] = model\n",
    "            normalized_dist_df[open_ratio_and_split].at[row_id, 'Model'] = model\n",
    "            success_rate_df[open_ratio_and_split].at[row_id, 'Policy'] = policy\n",
    "            normalized_dist_df[open_ratio_and_split].at[row_id, 'Policy'] = policy\n",
    "            for category in counts.keys():\n",
    "                success_rate_df[open_ratio_and_split].at[row_id, category] = srates[category]\n",
    "                normalized_dist_df[open_ratio_and_split].at[row_id, category] = ndists[category]\n",
    "\n",
    "            row_id += 1\n",
    "\n",
    "    # Multiply by the max counts\n",
    "    for id, row in success_rate_df[open_ratio_and_split].iterrows():\n",
    "        for category in max_counts[open_ratio_and_split].keys():\n",
    "            if max_counts[open_ratio_and_split][category] == 0:\n",
    "                continue\n",
    "            success_rate_df[open_ratio_and_split].at[id, category] /= max_counts[open_ratio_and_split][category]\n",
    "            normalized_dist_df[open_ratio_and_split].at[id, category] /= max_counts[open_ratio_and_split][category]\n",
    "\n",
    "            # Object count\n",
    "            success_rate_df[open_ratio_and_split].at[row_id, category] = max_counts[open_ratio_and_split][category]\n",
    "            normalized_dist_df[open_ratio_and_split].at[row_id, category] = max_counts[open_ratio_and_split][category]"
   ]
  },
  {
   "cell_type": "code",
   "execution_count": null,
   "metadata": {},
   "outputs": [],
   "source": [
    "max_counts"
   ]
  },
  {
   "cell_type": "code",
   "execution_count": null,
   "metadata": {},
   "outputs": [],
   "source": [
    "success_rate_df['000_train']"
   ]
  },
  {
   "cell_type": "code",
   "execution_count": null,
   "metadata": {},
   "outputs": [],
   "source": [
    "success_rate_df['000_test']"
   ]
  },
  {
   "cell_type": "code",
   "execution_count": null,
   "metadata": {},
   "outputs": [],
   "source": [
    "for key in open_ratios:\n",
    "    success_rate_df[key].to_excel(f'./summary_success_rate_{key}.xlsx')\n",
    "    normalized_dist_df[key].to_excel(f'./summary_norm_dist_{key}.xlsx')"
   ]
  },
  {
   "cell_type": "code",
   "execution_count": null,
   "metadata": {},
   "outputs": [],
   "source": [
    "normalized_dist_df['001'].to_excel('./dit_norm_dist_summary_001.xlsx')"
   ]
  }
 ],
 "metadata": {
  "kernelspec": {
   "display_name": "openany",
   "language": "python",
   "name": "python3"
  },
  "language_info": {
   "codemirror_mode": {
    "name": "ipython",
    "version": 3
   },
   "file_extension": ".py",
   "mimetype": "text/x-python",
   "name": "python",
   "nbconvert_exporter": "python",
   "pygments_lexer": "ipython3",
   "version": "3.9.17"
  }
 },
 "nbformat": 4,
 "nbformat_minor": 2
}
