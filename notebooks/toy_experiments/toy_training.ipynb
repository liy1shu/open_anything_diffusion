{
 "cells": [
  {
   "cell_type": "markdown",
   "metadata": {},
   "source": [
    "# Toy experiments on multimodal examples"
   ]
  },
  {
   "cell_type": "markdown",
   "metadata": {},
   "source": [
    "## Create the dataset"
   ]
  },
  {
   "cell_type": "markdown",
   "metadata": {},
   "source": [
    "#### 1. Train on (8994) & (9035),  Test on (8867)"
   ]
  },
  {
   "cell_type": "code",
   "execution_count": null,
   "metadata": {},
   "outputs": [],
   "source": [
    "toy_dataset = {\n",
    "    \"id\": \"door-1\",\n",
    "    # \"train-train\": [\"8994\", \"9035\"],\n",
    "    # \"train-test\": [\"8994\", \"9035\"],\n",
    "    \"train-train\": [\"8994\"],\n",
    "    \"train-test\": [\"8994\"],\n",
    "    \"test\": [\"8867\"],\n",
    "}"
   ]
  },
  {
   "cell_type": "code",
   "execution_count": null,
   "metadata": {},
   "outputs": [],
   "source": [
    "from open_anything_diffusion.datasets.flow_trajectory import FlowTrajectoryDataModule\n",
    "\n",
    "datamodule = FlowTrajectoryDataModule(\n",
    "    root=\"/home/yishu/datasets/partnet-mobility\",\n",
    "    batch_size=1,\n",
    "    num_workers=30,\n",
    "    n_proc=2,\n",
    "    seed=42,\n",
    "    trajectory_len=1,\n",
    "    toy_dataset=toy_dataset\n",
    ")"
   ]
  },
  {
   "cell_type": "code",
   "execution_count": null,
   "metadata": {},
   "outputs": [],
   "source": [
    "train_loader = datamodule.train_dataloader()\n",
    "train_val_loader = datamodule.train_val_dataloader()\n",
    "val_loader = datamodule.val_dataloader()\n",
    "unseen_loader = datamodule.unseen_dataloader()"
   ]
  },
  {
   "cell_type": "code",
   "execution_count": null,
   "metadata": {},
   "outputs": [],
   "source": [
    "for id, data in enumerate(train_loader):\n",
    "    print(data)\n",
    "    print(data.delta)\n",
    "    print(data.point)\n",
    "    print(data.mask)"
   ]
  },
  {
   "cell_type": "markdown",
   "metadata": {},
   "source": [
    "## Train the models"
   ]
  },
  {
   "cell_type": "code",
   "execution_count": null,
   "metadata": {},
   "outputs": [],
   "source": [
    "def train_model(model):  # General function that fits to both diffusion and flowbot\n",
    "    # train the model, record and display the training curves\n",
    "    return"
   ]
  },
  {
   "cell_type": "markdown",
   "metadata": {},
   "source": [
    "#### Config"
   ]
  },
  {
   "cell_type": "code",
   "execution_count": null,
   "metadata": {},
   "outputs": [],
   "source": [
    "class TrainConfig:\n",
    "    def __init__(self):\n",
    "        self.batch_size = 1\n",
    "        self.lr = 1e-4\n",
    "        self.mode = \"delta\"\n",
    "        self.trajectory_len = 1\n",
    "        self.epochs = 500\n",
    "        self.train_sample_number = 2\n",
    "        self.mask_input_channel = True\n",
    "\n",
    "        # Diffuser training param\n",
    "        self.lr_warmup_steps = 5\n",
    "\n",
    "class ModelConfig:\n",
    "    def __init__(self):\n",
    "        self.time_proj_dim = 64\n",
    "        self.time_embed_dim = 64\n",
    "        self.freq_shift= 0\n",
    "        self.flip_sin_to_cos = True\n",
    "        self.num_train_timesteps = 500\n",
    "\n",
    "train_cfg = TrainConfig()\n",
    "model_cfg = ModelConfig()"
   ]
  },
  {
   "cell_type": "markdown",
   "metadata": {},
   "source": [
    "#### 1. Create Flowbot model"
   ]
  },
  {
   "cell_type": "code",
   "execution_count": null,
   "metadata": {},
   "outputs": [],
   "source": [
    "import rpad.pyg.nets.pointnet2 as pnp\n",
    "network = pnp.PN2Dense(\n",
    "    in_channels=67,\n",
    "    out_channels=3,\n",
    "    p=pnp.PN2DenseParams(),\n",
    ")\n",
    "\n",
    "from open_anything_diffusion.models.flow_trajectory_predictor import (\n",
    "    FlowTrajectoryTrainingModule,\n",
    ")\n",
    "flowbot_model = FlowTrajectoryTrainingModule(network, train_cfg)"
   ]
  },
  {
   "cell_type": "markdown",
   "metadata": {},
   "source": [
    "#### 2. Create FlowDiffuser model"
   ]
  },
  {
   "cell_type": "code",
   "execution_count": null,
   "metadata": {},
   "outputs": [],
   "source": [
    "import rpad.pyg.nets.pointnet2 as pnp\n",
    "network = pnp.PN2Dense(\n",
    "    in_channels=67,\n",
    "    out_channels=3,\n",
    "    p=pnp.PN2DenseParams(),\n",
    ")\n",
    "\n",
    "from open_anything_diffusion.models.flow_trajectory_diffuser import (\n",
    "    FlowTrajectoryDiffusionModule,\n",
    ")\n",
    "diffuser_model = FlowTrajectoryDiffusionModule(network, train_cfg, model_cfg)"
   ]
  }
 ],
 "metadata": {
  "kernelspec": {
   "display_name": "openany",
   "language": "python",
   "name": "python3"
  },
  "language_info": {
   "codemirror_mode": {
    "name": "ipython",
    "version": 3
   },
   "file_extension": ".py",
   "mimetype": "text/x-python",
   "name": "python",
   "nbconvert_exporter": "python",
   "pygments_lexer": "ipython3",
   "version": "3.9.17"
  }
 },
 "nbformat": 4,
 "nbformat_minor": 2
}
