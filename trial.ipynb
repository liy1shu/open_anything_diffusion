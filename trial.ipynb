{
 "cells": [
  {
   "cell_type": "code",
   "execution_count": null,
   "metadata": {},
   "outputs": [],
   "source": [
    "import numpy as np\n",
    "import os\n",
    "\n",
    "pcd_dir = '/home/yishu/Azure_Kinect_ROS_Driver/src/pc_data_for_yishu'\n",
    "pcd_paths = [os.path.join(pcd_dir, pcd_name) for pcd_name in os.listdir(pcd_dir)]\n",
    "\n",
    "id = 2\n",
    "# path = pcd_paths[id]\n",
    "path = '/home/yishu/Azure_Kinect_ROS_Driver/src/pc_data_for_yishu/incorrect_toilet.npy'\n",
    "# path = '/home/yishu/Azure_Kinect_ROS_Driver/src/pc_data_for_yishu/fridge_L_open_15.npy'\n",
    "print(path)\n",
    "pcd = np.load(path)"
   ]
  },
  {
   "cell_type": "code",
   "execution_count": null,
   "metadata": {},
   "outputs": [],
   "source": [
    "import numpy as np\n",
    "rot = np.array([[0, -1, 0], [1,  0, 0], [0,  0, 1]])\n",
    "mean_x = pcd[:, 0].mean()\n",
    "mean_y = pcd[:, 1].mean()\n",
    "rot_pcd = pcd.copy()\n",
    "rot_pcd[:, 0] -= mean_x\n",
    "rot_pcd[:, 1] -= mean_y\n",
    "# rot_pcd[:, 2] += 1\n",
    "rot_pcd = rot_pcd@rot.T"
   ]
  },
  {
   "cell_type": "code",
   "execution_count": null,
   "metadata": {},
   "outputs": [],
   "source": [
    "import numpy as np\n",
    "idx_of_max_flow = 115\n",
    "contact_point = np.array([-0.04013849, -1.1314487, 0.0044618])\n",
    "contact_point_world = pcd[idx_of_max_flow]\n",
    "flow_vector = np.array([0.0443, -0.4799, 0.8762])"
   ]
  },
  {
   "cell_type": "code",
   "execution_count": null,
   "metadata": {},
   "outputs": [],
   "source": [
    "import torch\n",
    "from scipy.spatial.transform import Rotation \n",
    "\n",
    "def get_goal_point_and_orientation(contact_point, flow_vector):\n",
    "    goal_point = contact_point + 0.2 * flow_vector\n",
    "    e_z_init = torch.tensor([0, 0, 1.0]).float().cuda()\n",
    "    e_y = -flow_vector\n",
    "    e_x = torch.linalg.cross(e_y, e_z_init)\n",
    "    e_x = e_x / e_x.norm(dim=-1)\n",
    "    e_z = torch.linalg.cross(e_x, e_y)\n",
    "    R_goal = torch.stack([e_x, e_y, e_z], dim=1).cuda()\n",
    "    R_gripper = torch.as_tensor(\n",
    "        [\n",
    "            [1, 0, 0],\n",
    "            [0, 0, 1.0],\n",
    "            [0, -1.0, 0],\n",
    "        ]\n",
    "    ).cuda()\n",
    "\n",
    "    goal_orientation = Rotation.from_matrix((R_goal @ R_gripper).cpu()).as_quat()\n",
    "    return goal_point, goal_orientation\n",
    "\n",
    "\n",
    "def transform_flow_contact_point_goal_point_and_orientation_to_world(contact_point, goal_point, goal_orientation, mean_x, mean_y, flow_vector):\n",
    "    # Formatting goal_point and goal_orientation to be in the same frame as the point cloud so that it can be visualized\n",
    "    R = torch.tensor([[0, 1, 0], [-1, 0, 0], [0, 0, 1]]).float().cuda()\n",
    "\n",
    "    # Add the mean in x and y\n",
    "    goal_point[0] += mean_x\n",
    "    goal_point[1] += mean_y\n",
    "    contact_point[0] += mean_x\n",
    "    contact_point[1] += mean_y\n",
    "\n",
    "    goal_point = goal_point @ R.T\n",
    "    contact_point = contact_point @ R.T\n",
    "    \n",
    "    goal_point = goal_point.cpu().numpy()\n",
    "    goal_point = np.reshape(goal_point, (1, 3))\n",
    "    contact_point = contact_point.cpu().numpy()\n",
    "    contact_point = np.reshape(contact_point, (1, 3))\n",
    "\n",
    "    goal_orientation = Rotation.from_quat(goal_orientation)\n",
    "    goal_orientation = torch.from_numpy(goal_orientation.as_matrix()).float().cuda()\n",
    "    goal_orientation = goal_orientation @ R.T\n",
    "    goal_orientation = Rotation.from_matrix(goal_orientation.cpu()).as_quat()\n",
    "\n",
    "    flow_vector = flow_vector @ R.T\n",
    "\n",
    "    return contact_point, goal_point, goal_orientation, flow_vector"
   ]
  },
  {
   "cell_type": "code",
   "execution_count": null,
   "metadata": {},
   "outputs": [],
   "source": [
    "contact_point = torch.from_numpy(contact_point).float().cuda()\n",
    "flow_vector_normalized = torch.from_numpy(flow_vector).float().cuda()\n",
    "goal_point, goal_orientation = get_goal_point_and_orientation(contact_point, flow_vector_normalized)\n",
    "contact_point, goal_point, goal_orientation,flow_vector = transform_flow_contact_point_goal_point_and_orientation_to_world(contact_point, goal_point, goal_orientation, mean_x, mean_y, flow_vector_normalized)"
   ]
  },
  {
   "cell_type": "code",
   "execution_count": null,
   "metadata": {},
   "outputs": [],
   "source": [
    "e_z_init = torch.tensor([0, 0, 1.0]).float().cuda()\n",
    "e_y = -torch.tensor([0, 0, 1]).float().cuda()\n",
    "e_x = torch.linalg.cross(e_y, e_z_init)\n",
    "e_x = e_x / (e_x.norm(dim=-1)+1e-6)\n",
    "e_z = torch.linalg.cross(e_x, e_y)\n",
    "R_goal = torch.stack([e_x, e_y, e_z], dim=1).cuda()\n",
    "goal_orientation = Rotation.from_matrix((R_goal).cpu()).as_quat()\n",
    "print(R_goal)\n",
    "print(goal_orientation)"
   ]
  },
  {
   "cell_type": "markdown",
   "metadata": {},
   "source": [
    "### Visuals - model input space"
   ]
  },
  {
   "cell_type": "code",
   "execution_count": null,
   "metadata": {},
   "outputs": [],
   "source": [
    "import open3d as o3d"
   ]
  },
  {
   "cell_type": "code",
   "execution_count": null,
   "metadata": {},
   "outputs": [],
   "source": [
    "import plotly.graph_objects as go\n",
    "\n",
    "# Define vectors\n",
    "vectors = [\n",
    "    dict(x=[contact_point[0], ], y=[contact_point[1], 2], z=[contact_point[2], 1], name='Vector 1'),\n",
    "    dict(x=[0, 1], y=[0, 2], z=[0, 3], name='Vector 2'),\n",
    "    dict(x=[0, 1], y=[0, 0], z=[0, 1], name='Vector 3')\n",
    "]\n",
    "\n",
    "# Create the figure\n",
    "fig = go.Figure()\n",
    "\n",
    "# Add vectors to plot\n",
    "for v in vectors:\n",
    "    fig.add_trace(go.Scatter3d(x=v['x'], y=v['y'], z=v['z'], mode='lines+markers+text', name=v['name']))\n",
    "\n",
    "# Update layout for a nice aspect ratio\n",
    "fig.update_layout(scene=dict(\n",
    "    xaxis=dict(nticks=4, range=[-5,5]),\n",
    "    yaxis=dict(nticks=4, range=[-5,5]),\n",
    "    zaxis=dict(nticks=4, range=[-5,5])\n",
    "), width=700)\n",
    "\n",
    "# Show the plot\n",
    "fig.show()\n"
   ]
  }
 ],
 "metadata": {
  "kernelspec": {
   "display_name": "openany",
   "language": "python",
   "name": "python3"
  },
  "language_info": {
   "codemirror_mode": {
    "name": "ipython",
    "version": 3
   },
   "file_extension": ".py",
   "mimetype": "text/x-python",
   "name": "python",
   "nbconvert_exporter": "python",
   "pygments_lexer": "ipython3",
   "version": "3.9.17"
  }
 },
 "nbformat": 4,
 "nbformat_minor": 2
}
