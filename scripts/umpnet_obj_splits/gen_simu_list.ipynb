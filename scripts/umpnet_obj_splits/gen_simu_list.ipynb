{
 "cells": [
  {
   "cell_type": "markdown",
   "metadata": {},
   "source": [
    "## Generate the simulation object and links"
   ]
  },
  {
   "cell_type": "code",
   "execution_count": null,
   "metadata": {},
   "outputs": [],
   "source": [
    "splits = ['test_test', 'train_test', 'train_train']"
   ]
  },
  {
   "cell_type": "code",
   "execution_count": null,
   "metadata": {},
   "outputs": [],
   "source": [
    "object_lists = {}\n",
    "for split in splits:\n",
    "    with open(f'./{split}_split.txt', 'r') as f:\n",
    "        split_list = f.readlines()\n",
    "    for sample in split_list:\n",
    "        sample_seg = sample.replace('-v0\\n', '').split('_')\n",
    "        object_id = sample_seg[1]\n",
    "        link = '_'.join(sample_seg[2:])\n",
    "        \n",
    "        if object_id not in object_lists.keys():\n",
    "            object_lists[object_id] = []\n",
    "        object_lists[object_id].append(link)"
   ]
  },
  {
   "cell_type": "code",
   "execution_count": null,
   "metadata": {},
   "outputs": [],
   "source": [
    "import json\n",
    "with open('../umpnet_object_list.json', 'w') as f:\n",
    "    json.dump(object_lists, f)"
   ]
  }
 ],
 "metadata": {
  "kernelspec": {
   "display_name": "openany",
   "language": "python",
   "name": "python3"
  },
  "language_info": {
   "codemirror_mode": {
    "name": "ipython",
    "version": 3
   },
   "file_extension": ".py",
   "mimetype": "text/x-python",
   "name": "python",
   "nbconvert_exporter": "python",
   "pygments_lexer": "ipython3",
   "version": "3.9.17"
  }
 },
 "nbformat": 4,
 "nbformat_minor": 2
}
