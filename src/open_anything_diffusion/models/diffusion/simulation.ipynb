{
 "cells": [
  {
   "cell_type": "code",
   "execution_count": null,
   "metadata": {},
   "outputs": [],
   "source": [
    "import pandas as pd \n",
    "import numpy as np\n",
    "import json\n",
    "from open_anything_diffusion.datasets.flow_trajectory import FlowTrajectoryDataModule\n",
    "from diffuser import TrainingConfig, TrajDiffuser, TrajDiffuserSimWrapper\n",
    "from open_anything_diffusion.simulations.simulation import trial_with_diffuser, trial_gt_trajectory\n",
    "\n",
    "def load_obj_and_link():\n",
    "    with open(\"../../../../scripts/umpnet_object_list.json\", \"r\") as f:\n",
    "        object_link_json = json.load(f)\n",
    "    return object_link_json\n",
    "\n",
    "object_to_link = load_obj_and_link()"
   ]
  },
  {
   "cell_type": "code",
   "execution_count": null,
   "metadata": {},
   "outputs": [],
   "source": [
    "config = TrainingConfig()\n",
    "diffuser = TrajDiffuser(config, train_batch_num=1)\n",
    "diffuser.load_model(\"./closed_diffusion_fullset_ckpt.pth\")\n",
    "\n",
    "diffuser_simulator = TrajDiffuserSimWrapper(diffuser)\n",
    "\n",
    "success_rate = 0\n",
    "norm_dist = 0\n",
    "count = 0\n",
    "import tqdm"
   ]
  },
  {
   "cell_type": "code",
   "execution_count": null,
   "metadata": {},
   "outputs": [],
   "source": [
    "object_ids = [\"8877\", \"8893\", \"8897\", \"8903\", \"8919\", \"8930\", \"8961\", \"8997\", \"9016\", \"9032\", \"9035\", \"9041\", \"9065\", \"9070\", \"9107\", \"9117\", \"9127\", \"9128\", \"9148\", \"9164\", \"9168\", \"9277\", \"9280\", \"9281\", \"9288\", \"9386\", \"9388\", \"9410\", \"8867\", \"8983\", \"8994\", \"9003\", \"9263\", \"9393\"]\n",
    "for obj_id in tqdm.tqdm(object_ids):\n",
    "    if obj_id not in object_to_link.keys():\n",
    "        continue\n",
    "    count += 1\n",
    "    available_links = object_to_link[obj_id]\n",
    "    # trial_figs, trial_results = trial_with_diffuser(\n",
    "    #     obj_id=obj_id,\n",
    "    #     model=diffuser_simulator,\n",
    "    #     n_step=30,\n",
    "    #     gui=False,\n",
    "    #     website=True,\n",
    "    #     all_joint=True,\n",
    "    #     available_joints=available_links,\n",
    "    # )\n",
    "    trial_figs, trial_results = trial_gt_trajectory(\n",
    "        obj_id=obj_id,\n",
    "        # model=diffuser_simulator,\n",
    "        traj_len=1,\n",
    "        n_step=30,\n",
    "        gui=False,\n",
    "        website=True,\n",
    "        all_joint=True,\n",
    "        available_joints=available_links,\n",
    "    )\n",
    "    break"
   ]
  },
  {
   "cell_type": "code",
   "execution_count": null,
   "metadata": {},
   "outputs": [],
   "source": [
    "trial_figs['link_0'].show()"
   ]
  }
 ],
 "metadata": {
  "kernelspec": {
   "display_name": "openany",
   "language": "python",
   "name": "python3"
  },
  "language_info": {
   "codemirror_mode": {
    "name": "ipython",
    "version": 3
   },
   "file_extension": ".py",
   "mimetype": "text/x-python",
   "name": "python",
   "nbconvert_exporter": "python",
   "pygments_lexer": "ipython3",
   "version": "3.9.17"
  }
 },
 "nbformat": 4,
 "nbformat_minor": 2
}
