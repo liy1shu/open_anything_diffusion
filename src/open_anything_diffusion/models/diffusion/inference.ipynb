{
 "cells": [
  {
   "cell_type": "code",
   "execution_count": null,
   "metadata": {},
   "outputs": [],
   "source": [
    "from diffuser import TrainingConfig, TrajDiffuser"
   ]
  },
  {
   "cell_type": "code",
   "execution_count": null,
   "metadata": {},
   "outputs": [],
   "source": [
    "config = TrainingConfig()\n",
    "diffuser = TrajDiffuser(config, train_batch_num=1)\n",
    "diffuser.load_model('./closed_diffusion_fullset_ckpt.pth')"
   ]
  },
  {
   "cell_type": "code",
   "execution_count": null,
   "metadata": {},
   "outputs": [],
   "source": [
    "from open_anything_diffusion.datasets.flow_trajectory import FlowTrajectoryDataModule\n",
    "datamodule = FlowTrajectoryDataModule(\n",
    "    root=\"/home/yishu/datasets/partnet-mobility\",\n",
    "    batch_size=1,\n",
    "    num_workers=30,\n",
    "    n_proc=2,\n",
    "    seed=42,\n",
    "    trajectory_len=config.traj_len,  # Only used when training trajectory model\n",
    "    special_req=\"fully-closed\",\n",
    "    # toy_dataset = {\n",
    "    #     \"id\": \"door-1\",\n",
    "    #     \"train-train\": [\"8994\", \"9035\"],\n",
    "    #     \"train-test\": [\"8994\", \"9035\"],\n",
    "    #     \"test\": [\"8867\"],\n",
    "    #     # \"train-train\": [\"8867\"],\n",
    "    #     # \"train-test\": [\"8867\"],\n",
    "    #     # \"test\": [\"8867\"],\n",
    "    # }\n",
    "    # toy_dataset = {\n",
    "    #     \"id\": \"door-full-new\",\n",
    "    #     \"train-train\": [\"8877\", \"8893\", \"8897\", \"8903\", \"8919\", \"8930\", \"8936\", \"8961\", \"8997\", \"9016\", \"9032\", \"9035\", \"9041\", \"9065\", \"9070\", \"9107\", \"9117\", \"9127\", \"9128\", \"9148\", \"9164\", \"9168\", \"9277\", \"9280\", \"9281\", \"9288\", \"9386\", \"9388\", \"9410\"],\n",
    "    #     \"train-test\": [\"8867\", \"8983\", \"8994\", \"9003\", \"9263\", \"9393\"],\n",
    "    #     \"test\": [\"8867\", \"8983\", \"8994\", \"9003\", \"9263\", \"9393\"],\n",
    "    # }\n",
    "\n",
    "    # toy_dataset = {\n",
    "    #     \"id\": \"door-single-test-8867\",\n",
    "    #     \"train-train\": [\"8867\"],\n",
    "    #     \"train-test\": [\"8867\"],\n",
    "    #     \"test\": [\"8867\"],\n",
    "    # }\n",
    "    toy_dataset = {\n",
    "        \"id\": \"door-full-new\",\n",
    "        \"train-train\": [\"8877\", \"8893\", \"8897\", \"8903\", \"8919\", \"8930\", \"8961\", \"8997\", \"9016\", \"9032\", \"9035\", \"9041\", \"9065\", \"9070\", \"9107\", \"9117\", \"9127\", \"9128\", \"9148\", \"9164\", \"9168\", \"9277\", \"9280\", \"9281\", \"9288\", \"9386\", \"9388\", \"9410\"],\n",
    "        \"train-test\": [\"8867\", \"8983\", \"8994\", \"9003\", \"9263\", \"9393\"],\n",
    "        \"test\": [\"8867\", \"8983\", \"8994\", \"9003\", \"9263\", \"9393\"],\n",
    "    }\n",
    ")\n",
    "\n",
    "train_val_dataloader = datamodule.train_val_dataloader()\n",
    "val_dataloader = datamodule.val_dataloader()"
   ]
  },
  {
   "cell_type": "code",
   "execution_count": null,
   "metadata": {},
   "outputs": [],
   "source": [
    "samples = list(enumerate(train_val_dataloader))\n",
    "sample = samples[23][1]"
   ]
  },
  {
   "cell_type": "code",
   "execution_count": null,
   "metadata": {},
   "outputs": [],
   "source": [
    "import numpy as np\n",
    "import matplotlib.pyplot as plt\n",
    "from mpl_toolkits.mplot3d import Axes3D  # Importing 3D plotting tools\n",
    "\n",
    "# Create a 3D scatter plot\n",
    "fig = plt.figure()\n",
    "ax = fig.add_subplot(111, projection='3d')\n",
    "ax.scatter(sample.pos.cpu().numpy()[:, 0], sample.pos.cpu().numpy()[:, 1], sample.pos.cpu().numpy()[:, 2])\n",
    "plt.show()"
   ]
  },
  {
   "cell_type": "code",
   "execution_count": null,
   "metadata": {},
   "outputs": [],
   "source": [
    "# for i in range(1200):\n",
    "#     sample.pos[i][0] = -1 * sample.pos[i][0]\n",
    "#     sample.pos[i][1] = -1 * sample.pos[i][1]\n",
    "\n",
    "#     sample.delta[i][0][0] = -1 * sample.delta[i][0][0]\n",
    "#     sample.delta[i][0][1] = -1 * sample.delta[i][0][1]"
   ]
  },
  {
   "cell_type": "code",
   "execution_count": null,
   "metadata": {},
   "outputs": [],
   "source": [
    "metrics = []\n",
    "\n",
    "import tqdm\n",
    "for i in tqdm.tqdm(range(20)):\n",
    "    samples = list(enumerate(val_dataloader))\n",
    "    sample = samples[0][1]\n",
    "    metric = diffuser.predict([sample], vis=True)\n",
    "    metrics.append(metric)\n",
    "    if metric['cos_dist'] > 0.7:\n",
    "        print(\"hi\")"
   ]
  },
  {
   "cell_type": "code",
   "execution_count": null,
   "metadata": {},
   "outputs": [],
   "source": [
    "metrics"
   ]
  },
  {
   "cell_type": "code",
   "execution_count": null,
   "metadata": {},
   "outputs": [],
   "source": [
    "minus = []\n",
    "for i in range(20):\n",
    "    if metrics[i]['cos_dist'] > 0.8:\n",
    "        minus.append(i)\n",
    "print(minus)"
   ]
  },
  {
   "cell_type": "code",
   "execution_count": null,
   "metadata": {},
   "outputs": [],
   "source": [
    "metrics[2]['animation'].animate().show()"
   ]
  },
  {
   "cell_type": "code",
   "execution_count": null,
   "metadata": {},
   "outputs": [],
   "source": [
    "metrics[2]"
   ]
  },
  {
   "cell_type": "code",
   "execution_count": null,
   "metadata": {},
   "outputs": [],
   "source": [
    "metrics"
   ]
  },
  {
   "cell_type": "code",
   "execution_count": null,
   "metadata": {},
   "outputs": [],
   "source": [
    "metric_two = diffuser.predict([samples[1][1]], vis=True)"
   ]
  },
  {
   "cell_type": "code",
   "execution_count": null,
   "metadata": {},
   "outputs": [],
   "source": [
    "metric_two"
   ]
  },
  {
   "cell_type": "markdown",
   "metadata": {},
   "source": [
    "## Unseen"
   ]
  },
  {
   "cell_type": "code",
   "execution_count": null,
   "metadata": {},
   "outputs": [],
   "source": [
    "test_dataloader = datamodule.unseen_dataloader()\n",
    "samples = list(enumerate(test_dataloader))"
   ]
  },
  {
   "cell_type": "code",
   "execution_count": null,
   "metadata": {},
   "outputs": [],
   "source": [
    "metric_unseen = diffuser.predict([samples[0][1]], vis=True)"
   ]
  },
  {
   "cell_type": "code",
   "execution_count": null,
   "metadata": {},
   "outputs": [],
   "source": [
    "metric_unseen"
   ]
  },
  {
   "cell_type": "code",
   "execution_count": null,
   "metadata": {},
   "outputs": [],
   "source": [
    "for i in range(100):\n",
    "    metric_unseen = diffuser.predict([samples[3][1]], vis=False)\n",
    "    if metric_unseen['cos_dist'] > 0:\n",
    "        print(\"other direction!\")\n",
    "        break"
   ]
  },
  {
   "cell_type": "code",
   "execution_count": null,
   "metadata": {},
   "outputs": [],
   "source": [
    "i"
   ]
  }
 ],
 "metadata": {
  "kernelspec": {
   "display_name": "openany",
   "language": "python",
   "name": "python3"
  },
  "language_info": {
   "codemirror_mode": {
    "name": "ipython",
    "version": 3
   },
   "file_extension": ".py",
   "mimetype": "text/x-python",
   "name": "python",
   "nbconvert_exporter": "python",
   "pygments_lexer": "ipython3",
   "version": "3.9.17"
  }
 },
 "nbformat": 4,
 "nbformat_minor": 2
}
