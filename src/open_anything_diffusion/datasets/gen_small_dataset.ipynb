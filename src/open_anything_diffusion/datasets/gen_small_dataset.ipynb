{
 "cells": [
  {
   "cell_type": "markdown",
   "metadata": {},
   "source": [
    "## Generate subset of only one class of objects"
   ]
  },
  {
   "cell_type": "code",
   "execution_count": null,
   "metadata": {},
   "outputs": [],
   "source": [
    "from open_anything_diffusion.metrics.trajectory import artflownet_loss, flow_metrics, normalize_trajectory"
   ]
  },
  {
   "cell_type": "code",
   "execution_count": null,
   "metadata": {},
   "outputs": [],
   "source": [
    "import torch\n",
    "def normalize_trajectory_new(pred):  # pred: bs * 1200, traj_len, 3\n",
    "    pred = pred.reshape(-1, 1200, pred.shape[1], pred.shape[2])\n",
    "    norm = torch.linalg.norm(pred, ord=2, dim=-1).float()\n",
    "    norm = torch.max(norm, dim=1).values + 1e-6\n",
    "\n",
    "    largest_mag: float = torch.linalg.norm(\n",
    "        pred, ord=2, dim=-1\n",
    "    ).max()\n",
    "    print(norm)\n",
    "    print(largest_mag)\n",
    "\n",
    "\n",
    "    pred = pred / norm[:, None, :, None]\n",
    "    return torch.flatten(pred, start_dim=0, end_dim=1)  # bs * 1200, traj_len, 3\n",
    "    "
   ]
  },
  {
   "cell_type": "code",
   "execution_count": null,
   "metadata": {},
   "outputs": [],
   "source": [
    "# Create a dataset.\n",
    "from open_anything_diffusion.datasets.flow_trajectory import FlowTrajectoryDataModule\n",
    "datamodule = FlowTrajectoryDataModule(\n",
    "        root=\"/home/yishu/datasets/partnet-mobility\",\n",
    "        batch_size=64,\n",
    "        num_workers=30,\n",
    "        n_proc=2,\n",
    "        seed=42,\n",
    "        trajectory_len=5,  # Only used when training trajectory model\n",
    "    )"
   ]
  },
  {
   "cell_type": "code",
   "execution_count": null,
   "metadata": {},
   "outputs": [],
   "source": [
    "batch = next(iter(datamodule.train_dataloader())).cuda()"
   ]
  },
  {
   "cell_type": "code",
   "execution_count": null,
   "metadata": {},
   "outputs": [],
   "source": [
    "batch.delta[batch.mask!=0]"
   ]
  },
  {
   "cell_type": "code",
   "execution_count": null,
   "metadata": {},
   "outputs": [],
   "source": [
    "new_traj = normalize_trajectory_new(batch.delta)[batch.mask!=0]"
   ]
  },
  {
   "cell_type": "code",
   "execution_count": null,
   "metadata": {},
   "outputs": [],
   "source": [
    "print(flow_metrics(batch.delta[batch.mask!=0], new_traj))"
   ]
  }
 ],
 "metadata": {
  "kernelspec": {
   "display_name": "openany",
   "language": "python",
   "name": "python3"
  },
  "language_info": {
   "codemirror_mode": {
    "name": "ipython",
    "version": 3
   },
   "file_extension": ".py",
   "mimetype": "text/x-python",
   "name": "python",
   "nbconvert_exporter": "python",
   "pygments_lexer": "ipython3",
   "version": "3.9.17"
  }
 },
 "nbformat": 4,
 "nbformat_minor": 2
}
